{
 "cells": [
  {
   "cell_type": "code",
   "execution_count": 2,
   "metadata": {},
   "outputs": [],
   "source": [
    "%load_ext sql"
   ]
  },
  {
   "cell_type": "code",
   "execution_count": 3,
   "metadata": {},
   "outputs": [],
   "source": [
    "%sql sqlite:///vivino.db\n"
   ]
  },
  {
   "cell_type": "markdown",
   "metadata": {},
   "source": [
    "## QUERY 1 :  We want to highlight 10 wines to increase our sales. Which ones should we choose and why?\n",
    "## I limited 10 wines that have the best ratings_count , I  did not order by rating_average because it depeneds on the number of counts "
   ]
  },
  {
   "cell_type": "code",
   "execution_count": 3,
   "metadata": {},
   "outputs": [
    {
     "name": "stdout",
     "output_type": "stream",
     "text": [
      " * sqlite:///vivino.db\n",
      "Done.\n"
     ]
    },
    {
     "data": {
      "text/html": [
       "<table>\n",
       "    <thead>\n",
       "        <tr>\n",
       "            <th>name</th>\n",
       "            <th>id</th>\n",
       "            <th>ratings_average</th>\n",
       "            <th>ratings_count</th>\n",
       "        </tr>\n",
       "    </thead>\n",
       "    <tbody>\n",
       "        <tr>\n",
       "            <td>Cabernet Sauvignon</td>\n",
       "            <td>66284</td>\n",
       "            <td>4.6</td>\n",
       "            <td>157944</td>\n",
       "        </tr>\n",
       "        <tr>\n",
       "            <td>Brut Champagne</td>\n",
       "            <td>86684</td>\n",
       "            <td>4.6</td>\n",
       "            <td>146377</td>\n",
       "        </tr>\n",
       "        <tr>\n",
       "            <td>Tignanello</td>\n",
       "            <td>1652</td>\n",
       "            <td>4.5</td>\n",
       "            <td>142513</td>\n",
       "        </tr>\n",
       "        <tr>\n",
       "            <td>Sassicaia</td>\n",
       "            <td>5078</td>\n",
       "            <td>4.6</td>\n",
       "            <td>107646</td>\n",
       "        </tr>\n",
       "        <tr>\n",
       "            <td>60 Sessantanni Old Vines Primitivo di Manduria</td>\n",
       "            <td>11890</td>\n",
       "            <td>4.5</td>\n",
       "            <td>94289</td>\n",
       "        </tr>\n",
       "        <tr>\n",
       "            <td>Costasera Amarone della Valpolicella Classico</td>\n",
       "            <td>21929</td>\n",
       "            <td>4.3</td>\n",
       "            <td>93397</td>\n",
       "        </tr>\n",
       "        <tr>\n",
       "            <td>ARTEMIS Cabernet Sauvignon</td>\n",
       "            <td>1107336</td>\n",
       "            <td>4.4</td>\n",
       "            <td>81351</td>\n",
       "        </tr>\n",
       "        <tr>\n",
       "            <td>Amarone della Valpolicella Classico</td>\n",
       "            <td>7103</td>\n",
       "            <td>4.3</td>\n",
       "            <td>77515</td>\n",
       "        </tr>\n",
       "        <tr>\n",
       "            <td>Opus One</td>\n",
       "            <td>1911534</td>\n",
       "            <td>4.6</td>\n",
       "            <td>77053</td>\n",
       "        </tr>\n",
       "        <tr>\n",
       "            <td>Pauillac (Premier Grand Cru Classé)</td>\n",
       "            <td>1684223</td>\n",
       "            <td>4.6</td>\n",
       "            <td>73615</td>\n",
       "        </tr>\n",
       "    </tbody>\n",
       "</table>"
      ],
      "text/plain": [
       "[('Cabernet Sauvignon', 66284, 4.6, 157944),\n",
       " ('Brut Champagne', 86684, 4.6, 146377),\n",
       " ('Tignanello', 1652, 4.5, 142513),\n",
       " ('Sassicaia', 5078, 4.6, 107646),\n",
       " ('60 Sessantanni Old Vines Primitivo di Manduria', 11890, 4.5, 94289),\n",
       " ('Costasera Amarone della Valpolicella Classico', 21929, 4.3, 93397),\n",
       " ('ARTEMIS Cabernet Sauvignon', 1107336, 4.4, 81351),\n",
       " ('Amarone della Valpolicella Classico', 7103, 4.3, 77515),\n",
       " ('Opus One', 1911534, 4.6, 77053),\n",
       " ('Pauillac (Premier Grand Cru Classé)', 1684223, 4.6, 73615)]"
      ]
     },
     "execution_count": 3,
     "metadata": {},
     "output_type": "execute_result"
    }
   ],
   "source": [
    "%%sql\n",
    "SELECT name, id , ratings_average, ratings_count\n",
    "FROM wines \n",
    "ORDER BY ratings_count DESC\n",
    "LIMIT 10 ; "
   ]
  },
  {
   "cell_type": "markdown",
   "metadata": {},
   "source": [
    "## QUERY 2 :\n",
    "## We have a limited marketing budget for this year. Which country should we prioritise and why?"
   ]
  },
  {
   "cell_type": "code",
   "execution_count": 4,
   "metadata": {},
   "outputs": [
    {
     "name": "stdout",
     "output_type": "stream",
     "text": [
      " * sqlite:///vivino.db\n",
      "Done.\n"
     ]
    },
    {
     "data": {
      "text/html": [
       "<table>\n",
       "    <thead>\n",
       "        <tr>\n",
       "            <th>code</th>\n",
       "            <th>name</th>\n",
       "            <th>regions_count</th>\n",
       "            <th>users_count</th>\n",
       "            <th>wines_count</th>\n",
       "            <th>wineries_count</th>\n",
       "        </tr>\n",
       "    </thead>\n",
       "    <tbody>\n",
       "        <tr>\n",
       "            <td>us</td>\n",
       "            <td>États-Unis</td>\n",
       "            <td>362</td>\n",
       "            <td>12273684</td>\n",
       "            <td>204060</td>\n",
       "            <td>28145</td>\n",
       "        </tr>\n",
       "        <tr>\n",
       "            <td>fr</td>\n",
       "            <td>France</td>\n",
       "            <td>1306</td>\n",
       "            <td>5973301</td>\n",
       "            <td>422503</td>\n",
       "            <td>67553</td>\n",
       "        </tr>\n",
       "        <tr>\n",
       "            <td>it</td>\n",
       "            <td>Italie</td>\n",
       "            <td>563</td>\n",
       "            <td>4270717</td>\n",
       "            <td>274658</td>\n",
       "            <td>42399</td>\n",
       "        </tr>\n",
       "        <tr>\n",
       "            <td>de</td>\n",
       "            <td>Allemagne</td>\n",
       "            <td>236</td>\n",
       "            <td>2549989</td>\n",
       "            <td>164533</td>\n",
       "            <td>13643</td>\n",
       "        </tr>\n",
       "    </tbody>\n",
       "</table>"
      ],
      "text/plain": [
       "[('us', 'États-Unis', 362, 12273684, 204060, 28145),\n",
       " ('fr', 'France', 1306, 5973301, 422503, 67553),\n",
       " ('it', 'Italie', 563, 4270717, 274658, 42399),\n",
       " ('de', 'Allemagne', 236, 2549989, 164533, 13643)]"
      ]
     },
     "execution_count": 4,
     "metadata": {},
     "output_type": "execute_result"
    }
   ],
   "source": [
    "%%sql\n",
    "SELECT *\n",
    "FROM countries\n",
    "GROUP BY  name \n",
    "ORDER BY users_count DESC\n",
    "LIMIT 4;"
   ]
  },
  {
   "cell_type": "markdown",
   "metadata": {},
   "source": [
    "## QUERY 3 :\n",
    "## We would like to give awards to the best wineries. Come up with 3 relevant ones. Which wineries should we choose and why?"
   ]
  },
  {
   "cell_type": "code",
   "execution_count": 5,
   "metadata": {},
   "outputs": [
    {
     "name": "stdout",
     "output_type": "stream",
     "text": [
      " * sqlite:///vivino.db\n",
      "Done.\n"
     ]
    },
    {
     "data": {
      "text/html": [
       "<table>\n",
       "    <thead>\n",
       "        <tr>\n",
       "            <th>winery_id</th>\n",
       "            <th>name</th>\n",
       "            <th>avg_rating</th>\n",
       "        </tr>\n",
       "    </thead>\n",
       "    <tbody>\n",
       "        <tr>\n",
       "            <td>75712</td>\n",
       "            <td>Corte di Cama Sforzato di Valtellina</td>\n",
       "            <td>4.5</td>\n",
       "        </tr>\n",
       "        <tr>\n",
       "            <td>1651</td>\n",
       "            <td>Tenuta Tignanello &#x27;Solaia&#x27;</td>\n",
       "            <td>4.5</td>\n",
       "        </tr>\n",
       "        <tr>\n",
       "            <td>1652</td>\n",
       "            <td>Tignanello</td>\n",
       "            <td>4.4</td>\n",
       "        </tr>\n",
       "    </tbody>\n",
       "</table>"
      ],
      "text/plain": [
       "[(75712, 'Corte di Cama Sforzato di Valtellina', 4.5),\n",
       " (1651, \"Tenuta Tignanello 'Solaia'\", 4.5),\n",
       " (1652, 'Tignanello', 4.4)]"
      ]
     },
     "execution_count": 5,
     "metadata": {},
     "output_type": "execute_result"
    }
   ],
   "source": [
    "%%sql\n",
    "SELECT winery_id, wineries.name, (ratings_average) as avg_rating\n",
    "FROM wines\n",
    "JOIN wineries ON wineries.id = wines.winery_id\n",
    "GROUP BY winery_id\n",
    "ORDER BY avg_rating DESC\n",
    "LIMIT 3;"
   ]
  },
  {
   "cell_type": "markdown",
   "metadata": {},
   "source": [
    "## QUERY 4 : We detected that a big cluster of customers likes a specific combination of tastes. We identified a few keywords that match these tastes: coffee, toast, green apple, cream, and citrus . We would like you to find all the wines that are related to these keywords. Check that at least 10 users confirm those keywords, to ensure the accuracy of the selection. Additionally, identify an appropriate group name for this cluster."
   ]
  },
  {
   "cell_type": "code",
   "execution_count": 6,
   "metadata": {},
   "outputs": [
    {
     "name": "stdout",
     "output_type": "stream",
     "text": [
      " * sqlite:///vivino.db\n",
      "Done.\n"
     ]
    },
    {
     "data": {
      "text/html": [
       "<table>\n",
       "    <thead>\n",
       "        <tr>\n",
       "            <th>id</th>\n",
       "            <th>name</th>\n",
       "            <th>user_confirmed</th>\n",
       "        </tr>\n",
       "    </thead>\n",
       "    <tbody>\n",
       "        <tr>\n",
       "            <td>18931</td>\n",
       "            <td>La Grande Année Brut Champagne</td>\n",
       "            <td>7</td>\n",
       "        </tr>\n",
       "        <tr>\n",
       "            <td>74304</td>\n",
       "            <td>Cristal Brut Champagne (Millésimé)</td>\n",
       "            <td>7</td>\n",
       "        </tr>\n",
       "        <tr>\n",
       "            <td>79162</td>\n",
       "            <td>Belle Epoque Brut Champagne</td>\n",
       "            <td>7</td>\n",
       "        </tr>\n",
       "        <tr>\n",
       "            <td>79631</td>\n",
       "            <td>Vintage</td>\n",
       "            <td>7</td>\n",
       "        </tr>\n",
       "        <tr>\n",
       "            <td>79836</td>\n",
       "            <td>La Grande Dame Brut Champagne</td>\n",
       "            <td>7</td>\n",
       "        </tr>\n",
       "        <tr>\n",
       "            <td>86684</td>\n",
       "            <td>Brut Champagne</td>\n",
       "            <td>7</td>\n",
       "        </tr>\n",
       "        <tr>\n",
       "            <td>1105696</td>\n",
       "            <td>Trebbiano d&#x27;Abruzzo</td>\n",
       "            <td>7</td>\n",
       "        </tr>\n",
       "        <tr>\n",
       "            <td>1127349</td>\n",
       "            <td>Le Mesnil Blanc de Blancs (Cuvée S) Brut Champagne</td>\n",
       "            <td>7</td>\n",
       "        </tr>\n",
       "        <tr>\n",
       "            <td>1135215</td>\n",
       "            <td>Sauternes (Premier Grand Cru Classé)</td>\n",
       "            <td>7</td>\n",
       "        </tr>\n",
       "        <tr>\n",
       "            <td>1136950</td>\n",
       "            <td>Comtes de Champagne Blanc de Blancs</td>\n",
       "            <td>7</td>\n",
       "        </tr>\n",
       "        <tr>\n",
       "            <td>1153863</td>\n",
       "            <td>Sauternes</td>\n",
       "            <td>7</td>\n",
       "        </tr>\n",
       "        <tr>\n",
       "            <td>1164702</td>\n",
       "            <td>R.D Extra Brut Champagne (Récemment Dégorgé)</td>\n",
       "            <td>7</td>\n",
       "        </tr>\n",
       "        <tr>\n",
       "            <td>1167182</td>\n",
       "            <td>MV</td>\n",
       "            <td>7</td>\n",
       "        </tr>\n",
       "        <tr>\n",
       "            <td>1192720</td>\n",
       "            <td>Dom Ruinart Blanc de Blancs Brut Champagne</td>\n",
       "            <td>7</td>\n",
       "        </tr>\n",
       "        <tr>\n",
       "            <td>1441099</td>\n",
       "            <td>Blanc des Millénaires</td>\n",
       "            <td>7</td>\n",
       "        </tr>\n",
       "        <tr>\n",
       "            <td>1692390</td>\n",
       "            <td>Sir Winston Churchill Brut Champagne</td>\n",
       "            <td>7</td>\n",
       "        </tr>\n",
       "        <tr>\n",
       "            <td>3102815</td>\n",
       "            <td>P2 Plénitude Brut Champagne</td>\n",
       "            <td>7</td>\n",
       "        </tr>\n",
       "        <tr>\n",
       "            <td>3630450</td>\n",
       "            <td>Cuvée des Enchanteleurs Brut Champagne</td>\n",
       "            <td>7</td>\n",
       "        </tr>\n",
       "        <tr>\n",
       "            <td>7122486</td>\n",
       "            <td>Grande Cuvée</td>\n",
       "            <td>7</td>\n",
       "        </tr>\n",
       "    </tbody>\n",
       "</table>"
      ],
      "text/plain": [
       "[(18931, 'La Grande Année Brut Champagne', 7),\n",
       " (74304, 'Cristal Brut Champagne (Millésimé)', 7),\n",
       " (79162, 'Belle Epoque Brut Champagne', 7),\n",
       " (79631, 'Vintage', 7),\n",
       " (79836, 'La Grande Dame Brut Champagne', 7),\n",
       " (86684, 'Brut Champagne', 7),\n",
       " (1105696, \"Trebbiano d'Abruzzo\", 7),\n",
       " (1127349, 'Le Mesnil Blanc de Blancs (Cuvée S) Brut Champagne', 7),\n",
       " (1135215, 'Sauternes (Premier Grand Cru Classé)', 7),\n",
       " (1136950, 'Comtes de Champagne Blanc de Blancs', 7),\n",
       " (1153863, 'Sauternes', 7),\n",
       " (1164702, 'R.D Extra Brut Champagne (Récemment Dégorgé)', 7),\n",
       " (1167182, 'MV', 7),\n",
       " (1192720, 'Dom Ruinart Blanc de Blancs Brut Champagne', 7),\n",
       " (1441099, 'Blanc des Millénaires', 7),\n",
       " (1692390, 'Sir Winston Churchill Brut Champagne', 7),\n",
       " (3102815, 'P2 Plénitude Brut Champagne', 7),\n",
       " (3630450, 'Cuvée des Enchanteleurs Brut Champagne', 7),\n",
       " (7122486, 'Grande Cuvée', 7)]"
      ]
     },
     "execution_count": 6,
     "metadata": {},
     "output_type": "execute_result"
    }
   ],
   "source": [
    "%%sql\n",
    "SELECT w.id, w.name, COUNT(*) as user_confirmed\n",
    "FROM wines w\n",
    "JOIN keywords_wine kw ON w.id = kw.wine_id\n",
    "JOIN keywords k ON k.id = kw.keyword_id\n",
    "WHERE k.name IN ('coffee', 'toast', 'green apple', 'cream', 'citrus') AND kw.count >= 10\n",
    "GROUP BY w.id, w.name\n",
    "HAVING COUNT(DISTINCT k.name) >= 5\n",
    "ORDER BY user_confirmed DESC;"
   ]
  },
  {
   "cell_type": "markdown",
   "metadata": {},
   "source": [
    "## QUERY 5:\n",
    "## We would like to select wines that are easy to find all over the world. Find the top 3 most common grapes all over the world and for each grape, give us the the 5 best rated wines."
   ]
  },
  {
   "cell_type": "code",
   "execution_count": 7,
   "metadata": {},
   "outputs": [
    {
     "name": "stdout",
     "output_type": "stream",
     "text": [
      "Top 3 Most Common Grapes All Over the World Based on Wines Count:\n",
      "1. Grape ID: 2, Name: Cabernet Sauvignon, Total Occurrences (Wines Count): 12\n",
      "2. Grape ID: 10, Name: Merlot, Total Occurrences (Wines Count): 11\n",
      "3. Grape ID: 5, Name: Chardonnay, Total Occurrences (Wines Count): 6\n"
     ]
    }
   ],
   "source": [
    "import sqlite3\n",
    "\n",
    "# Connect to the SQLite database\n",
    "conn = sqlite3.connect('vivino.db')\n",
    "cur = conn.cursor()\n",
    "\n",
    "# Query to find the top 3 most common grapes based on wines_count in most_used_grapes_per_country table\n",
    "query5a = \"\"\"\n",
    "SELECT g.id, g.name, COUNT(m.wines_count) AS total_occurrences\n",
    "FROM grapes g\n",
    "JOIN most_used_grapes_per_country m ON g.id = m.grape_id\n",
    "GROUP BY g.id, g.name\n",
    "ORDER BY total_occurrences DESC\n",
    "LIMIT 3;\n",
    "\"\"\"\n",
    "\n",
    "cur.execute(query5a)\n",
    "top_grapes = cur.fetchall()\n",
    "\n",
    "# Display the top 3 most common grapes based on wines_count in most_used_grapes_per_country table\n",
    "if top_grapes:\n",
    "    print(\"Top 3 Most Common Grapes All Over the World Based on Wines Count:\")\n",
    "    for i, grape in enumerate(top_grapes, 1):\n",
    "        grape_id = grape[0]\n",
    "        grape_name = grape[1]\n",
    "        total_occurrences = grape[2]\n",
    "        print(f\"{i}. Grape ID: {grape_id}, Name: {grape_name}, Total Occurrences (Wines Count): {total_occurrences}\")\n",
    "else:\n",
    "    print(\"No data found.\")\n",
    "\n",
    "# Close the cursor and connection\n",
    "cur.close()\n",
    "conn.close()"
   ]
  },
  {
   "cell_type": "markdown",
   "metadata": {},
   "source": [
    "## Q6 : create country leaderboard and a graph to show the average wine rating for each country***"
   ]
  },
  {
   "cell_type": "code",
   "execution_count": 8,
   "metadata": {},
   "outputs": [
    {
     "name": "stdout",
     "output_type": "stream",
     "text": [
      " * sqlite:///vivino.db\n",
      "Done.\n"
     ]
    },
    {
     "data": {
      "text/html": [
       "<table>\n",
       "    <thead>\n",
       "        <tr>\n",
       "            <th>name</th>\n",
       "            <th>avg_rating</th>\n",
       "        </tr>\n",
       "    </thead>\n",
       "    <tbody>\n",
       "        <tr>\n",
       "            <td>Israël</td>\n",
       "            <td>4.5</td>\n",
       "        </tr>\n",
       "        <tr>\n",
       "            <td>Allemagne</td>\n",
       "            <td>4.5</td>\n",
       "        </tr>\n",
       "        <tr>\n",
       "            <td>États-Unis</td>\n",
       "            <td>4.4905405405405405</td>\n",
       "        </tr>\n",
       "        <tr>\n",
       "            <td>Moldavie</td>\n",
       "            <td>4.4799999999999995</td>\n",
       "        </tr>\n",
       "        <tr>\n",
       "            <td>Hongrie</td>\n",
       "            <td>4.472727272727273</td>\n",
       "        </tr>\n",
       "        <tr>\n",
       "            <td>Afrique du Sud</td>\n",
       "            <td>4.45909090909091</td>\n",
       "        </tr>\n",
       "        <tr>\n",
       "            <td>Australie</td>\n",
       "            <td>4.458333333333333</td>\n",
       "        </tr>\n",
       "        <tr>\n",
       "            <td>France</td>\n",
       "            <td>4.447129909365559</td>\n",
       "        </tr>\n",
       "        <tr>\n",
       "            <td>Espagne</td>\n",
       "            <td>4.443617021276595</td>\n",
       "        </tr>\n",
       "        <tr>\n",
       "            <td>Portugal</td>\n",
       "            <td>4.435714285714286</td>\n",
       "        </tr>\n",
       "        <tr>\n",
       "            <td>Chili</td>\n",
       "            <td>4.43125</td>\n",
       "        </tr>\n",
       "        <tr>\n",
       "            <td>Italie</td>\n",
       "            <td>4.430026109660575</td>\n",
       "        </tr>\n",
       "        <tr>\n",
       "            <td>Argentine</td>\n",
       "            <td>4.417391304347826</td>\n",
       "        </tr>\n",
       "        <tr>\n",
       "            <td>Roumanie</td>\n",
       "            <td>4.4</td>\n",
       "        </tr>\n",
       "        <tr>\n",
       "            <td>Grèce</td>\n",
       "            <td>4.4</td>\n",
       "        </tr>\n",
       "        <tr>\n",
       "            <td>Suisse</td>\n",
       "            <td>4.35</td>\n",
       "        </tr>\n",
       "        <tr>\n",
       "            <td>Croatie</td>\n",
       "            <td>4.3</td>\n",
       "        </tr>\n",
       "    </tbody>\n",
       "</table>"
      ],
      "text/plain": [
       "[('Israël', 4.5),\n",
       " ('Allemagne', 4.5),\n",
       " ('États-Unis', 4.4905405405405405),\n",
       " ('Moldavie', 4.4799999999999995),\n",
       " ('Hongrie', 4.472727272727273),\n",
       " ('Afrique du Sud', 4.45909090909091),\n",
       " ('Australie', 4.458333333333333),\n",
       " ('France', 4.447129909365559),\n",
       " ('Espagne', 4.443617021276595),\n",
       " ('Portugal', 4.435714285714286),\n",
       " ('Chili', 4.43125),\n",
       " ('Italie', 4.430026109660575),\n",
       " ('Argentine', 4.417391304347826),\n",
       " ('Roumanie', 4.4),\n",
       " ('Grèce', 4.4),\n",
       " ('Suisse', 4.35),\n",
       " ('Croatie', 4.3)]"
      ]
     },
     "execution_count": 8,
     "metadata": {},
     "output_type": "execute_result"
    }
   ],
   "source": [
    "%%sql\n",
    "SELECT c.name, AVG(w.ratings_average) as avg_rating\n",
    "FROM wines w\n",
    "JOIN regions r ON w.region_id = r.id\n",
    "JOIN countries c ON r.country_code = c.code\n",
    "GROUP BY c.code\n",
    "ORDER BY avg_rating DESC;"
   ]
  },
  {
   "cell_type": "markdown",
   "metadata": {},
   "source": [
    "## Q7 : One of our VIP clients likes Cabernet Sauvignon and would like our top 5 recommendations. Which wines would you recommend to him?"
   ]
  },
  {
   "cell_type": "code",
   "execution_count": 5,
   "metadata": {},
   "outputs": [
    {
     "name": "stdout",
     "output_type": "stream",
     "text": [
      " * sqlite:///vivino.db\n",
      "Done.\n"
     ]
    },
    {
     "data": {
      "text/html": [
       "<table>\n",
       "    <thead>\n",
       "        <tr>\n",
       "            <th>id</th>\n",
       "            <th>name</th>\n",
       "            <th>ratings_average</th>\n",
       "            <th>ratings_count</th>\n",
       "        </tr>\n",
       "    </thead>\n",
       "    <tbody>\n",
       "        <tr>\n",
       "            <td>1611255</td>\n",
       "            <td>Cabernet Sauvignon</td>\n",
       "            <td>4.8</td>\n",
       "            <td>2941</td>\n",
       "        </tr>\n",
       "        <tr>\n",
       "            <td>66294</td>\n",
       "            <td>Special Selection Cabernet Sauvignon</td>\n",
       "            <td>4.7</td>\n",
       "            <td>41236</td>\n",
       "        </tr>\n",
       "        <tr>\n",
       "            <td>66284</td>\n",
       "            <td>Cabernet Sauvignon</td>\n",
       "            <td>4.6</td>\n",
       "            <td>157944</td>\n",
       "        </tr>\n",
       "        <tr>\n",
       "            <td>3879</td>\n",
       "            <td>Cabernet Sauvignon (Signature)</td>\n",
       "            <td>4.6</td>\n",
       "            <td>13730</td>\n",
       "        </tr>\n",
       "        <tr>\n",
       "            <td>2653222</td>\n",
       "            <td>CASK 23 Cabernet Sauvignon</td>\n",
       "            <td>4.6</td>\n",
       "            <td>9464</td>\n",
       "        </tr>\n",
       "    </tbody>\n",
       "</table>"
      ],
      "text/plain": [
       "[(1611255, 'Cabernet Sauvignon', 4.8, 2941),\n",
       " (66294, 'Special Selection Cabernet Sauvignon', 4.7, 41236),\n",
       " (66284, 'Cabernet Sauvignon', 4.6, 157944),\n",
       " (3879, 'Cabernet Sauvignon (Signature)', 4.6, 13730),\n",
       " (2653222, 'CASK 23 Cabernet Sauvignon', 4.6, 9464)]"
      ]
     },
     "execution_count": 5,
     "metadata": {},
     "output_type": "execute_result"
    }
   ],
   "source": [
    "%%sql\n",
    "SELECT id, name, ratings_average, ratings_count\n",
    "FROM wines\n",
    "WHERE name LIKE '%Cabernet Sauvignon%'\n",
    "ORDER BY ratings_average DESC, ratings_count DESC\n",
    "LIMIT 5;"
   ]
  }
 ],
 "metadata": {
  "kernelspec": {
   "display_name": "Python 3",
   "language": "python",
   "name": "python3"
  },
  "language_info": {
   "codemirror_mode": {
    "name": "ipython",
    "version": 3
   },
   "file_extension": ".py",
   "mimetype": "text/x-python",
   "name": "python",
   "nbconvert_exporter": "python",
   "pygments_lexer": "ipython3",
   "version": "3.12.1"
  }
 },
 "nbformat": 4,
 "nbformat_minor": 2
}
