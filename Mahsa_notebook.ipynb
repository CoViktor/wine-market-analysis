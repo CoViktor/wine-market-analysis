{
 "cells": [
  {
   "cell_type": "code",
   "execution_count": 1,
   "metadata": {},
   "outputs": [],
   "source": [
    "%load_ext sql\n"
   ]
  },
  {
   "cell_type": "code",
   "execution_count": null,
   "metadata": {},
   "outputs": [],
   "source": []
  },
  {
   "cell_type": "code",
   "execution_count": 2,
   "metadata": {},
   "outputs": [],
   "source": [
    "%sql sqlite:///vivino.db\n"
   ]
  },
  {
   "cell_type": "code",
   "execution_count": 3,
   "metadata": {},
   "outputs": [
    {
     "name": "stdout",
     "output_type": "stream",
     "text": [
      " * sqlite:///vivino.db\n",
      "Done.\n"
     ]
    },
    {
     "data": {
      "text/html": [
       "<table>\n",
       "    <thead>\n",
       "        <tr>\n",
       "            <th>id</th>\n",
       "            <th>name</th>\n",
       "            <th>is_natural</th>\n",
       "            <th>region_id</th>\n",
       "            <th>winery_id</th>\n",
       "            <th>ratings_average</th>\n",
       "            <th>ratings_count</th>\n",
       "            <th>url</th>\n",
       "            <th>acidity</th>\n",
       "            <th>fizziness</th>\n",
       "            <th>intensity</th>\n",
       "            <th>sweetness</th>\n",
       "            <th>tannin</th>\n",
       "            <th>user_structure_count</th>\n",
       "        </tr>\n",
       "    </thead>\n",
       "    <tbody>\n",
       "        <tr>\n",
       "            <td>1213</td>\n",
       "            <td>Vin Santo di Montepulciano</td>\n",
       "            <td>0</td>\n",
       "            <td>2693</td>\n",
       "            <td>1574</td>\n",
       "            <td>4.6</td>\n",
       "            <td>773</td>\n",
       "            <td>https://www.seulementproduitsitaliens.be/spec_collezioni.php?CODICEWT=10AVVS92H</td>\n",
       "            <td>4.492628</td>\n",
       "            <td>None</td>\n",
       "            <td>3.9921334</td>\n",
       "            <td>4.952543</td>\n",
       "            <td>None</td>\n",
       "            <td>0</td>\n",
       "        </tr>\n",
       "        <tr>\n",
       "            <td>1268</td>\n",
       "            <td>St. Henri Shiraz</td>\n",
       "            <td>0</td>\n",
       "            <td>7</td>\n",
       "            <td>1305</td>\n",
       "            <td>4.4</td>\n",
       "            <td>17326</td>\n",
       "            <td>https://www.wijnig.nl/penfolds-st-henri-shiraz-2018.html</td>\n",
       "            <td>3.0152445</td>\n",
       "            <td>None</td>\n",
       "            <td>4.612774</td>\n",
       "            <td>2.092192</td>\n",
       "            <td>3.1030886</td>\n",
       "            <td>1309</td>\n",
       "        </tr>\n",
       "        <tr>\n",
       "            <td>1471</td>\n",
       "            <td>Siepi</td>\n",
       "            <td>0</td>\n",
       "            <td>394</td>\n",
       "            <td>1620</td>\n",
       "            <td>4.4</td>\n",
       "            <td>8129</td>\n",
       "            <td>https://www.topwijnen.be/nl/product/wijnen/italie/toscane/igt-toscane/wn6010264/wn6010264</td>\n",
       "            <td>3.156144</td>\n",
       "            <td>None</td>\n",
       "            <td>3.4918664</td>\n",
       "            <td>1.807986</td>\n",
       "            <td>2.9856336</td>\n",
       "            <td>755</td>\n",
       "        </tr>\n",
       "        <tr>\n",
       "            <td>1647</td>\n",
       "            <td>Solare Toscana</td>\n",
       "            <td>0</td>\n",
       "            <td>394</td>\n",
       "            <td>4772</td>\n",
       "            <td>4.2</td>\n",
       "            <td>4961</td>\n",
       "            <td>https://www.seulementproduitsitaliens.be/spec_collezioni.php?CODICE=2001658</td>\n",
       "            <td>3.1583757</td>\n",
       "            <td>None</td>\n",
       "            <td>3.3216164</td>\n",
       "            <td>1.7018968</td>\n",
       "            <td>3.0380645</td>\n",
       "            <td>485</td>\n",
       "        </tr>\n",
       "        <tr>\n",
       "            <td>1651</td>\n",
       "            <td>Tenuta Tignanello &#x27;Solaia&#x27;</td>\n",
       "            <td>0</td>\n",
       "            <td>394</td>\n",
       "            <td>1252</td>\n",
       "            <td>4.6</td>\n",
       "            <td>33143</td>\n",
       "            <td>http://www.vivino.com/wines/159347388</td>\n",
       "            <td>3.0641637</td>\n",
       "            <td>None</td>\n",
       "            <td>3.4507132</td>\n",
       "            <td>1.8885487</td>\n",
       "            <td>2.9705827</td>\n",
       "            <td>2131</td>\n",
       "        </tr>\n",
       "        <tr>\n",
       "            <td>1652</td>\n",
       "            <td>Tignanello</td>\n",
       "            <td>0</td>\n",
       "            <td>394</td>\n",
       "            <td>1252</td>\n",
       "            <td>4.5</td>\n",
       "            <td>142513</td>\n",
       "            <td>https://www.seulementproduitsitaliens.be/spec_collezioni.php?CODICEWT=10ANTI89B</td>\n",
       "            <td>3.082814</td>\n",
       "            <td>None</td>\n",
       "            <td>3.4132028</td>\n",
       "            <td>1.7224381</td>\n",
       "            <td>2.9867094</td>\n",
       "            <td>8219</td>\n",
       "        </tr>\n",
       "        <tr>\n",
       "            <td>1658</td>\n",
       "            <td>Tenuta Guado al Tasso Bolgheri Superiore</td>\n",
       "            <td>0</td>\n",
       "            <td>3345</td>\n",
       "            <td>1252</td>\n",
       "            <td>4.5</td>\n",
       "            <td>33392</td>\n",
       "            <td>https://www.seulementproduitsitaliens.be/spec_collezioni.php?CODICEWT=10TBGT98M</td>\n",
       "            <td>3.4173176</td>\n",
       "            <td>None</td>\n",
       "            <td>3.9344313</td>\n",
       "            <td>1.733469</td>\n",
       "            <td>3.8648884</td>\n",
       "            <td>791</td>\n",
       "        </tr>\n",
       "        <tr>\n",
       "            <td>1675</td>\n",
       "            <td>Pian delle Vigne Brunello di Montalcino</td>\n",
       "            <td>0</td>\n",
       "            <td>1796</td>\n",
       "            <td>1252</td>\n",
       "            <td>4.3</td>\n",
       "            <td>31363</td>\n",
       "            <td>https://www.wereldwijnonline.be/pian-delle-vigne-brunello-di-montalcino-2013-tosca.html</td>\n",
       "            <td>3.7869322</td>\n",
       "            <td>None</td>\n",
       "            <td>3.2263973</td>\n",
       "            <td>1.6081825</td>\n",
       "            <td>3.439114</td>\n",
       "            <td>1176</td>\n",
       "        </tr>\n",
       "        <tr>\n",
       "            <td>1688</td>\n",
       "            <td>Castello della Sala Cervaro della Sala</td>\n",
       "            <td>0</td>\n",
       "            <td>488</td>\n",
       "            <td>1252</td>\n",
       "            <td>4.4</td>\n",
       "            <td>30203</td>\n",
       "            <td>https://www.seulementproduitsitaliens.be/vino/antinori-tenuta-castello-della-sala/143-antinori-castello-della-sala-cervaro-della-sala.html?codice=ANT009-2021</td>\n",
       "            <td>3.8587165</td>\n",
       "            <td>None</td>\n",
       "            <td>3.276715</td>\n",
       "            <td>2.3621032</td>\n",
       "            <td>None</td>\n",
       "            <td>1089</td>\n",
       "        </tr>\n",
       "        <tr>\n",
       "            <td>1690</td>\n",
       "            <td>Castello della Sala Muffato della Sala</td>\n",
       "            <td>0</td>\n",
       "            <td>488</td>\n",
       "            <td>1252</td>\n",
       "            <td>4.3</td>\n",
       "            <td>6356</td>\n",
       "            <td>https://www.seulementproduitsitaliens.be/spec_collezioni.php?CODICEWT=20ANMU18B</td>\n",
       "            <td>None</td>\n",
       "            <td>None</td>\n",
       "            <td>None</td>\n",
       "            <td>None</td>\n",
       "            <td>None</td>\n",
       "            <td>None</td>\n",
       "        </tr>\n",
       "    </tbody>\n",
       "</table>"
      ],
      "text/plain": [
       "[(1213, 'Vin Santo di Montepulciano', 0, 2693, 1574, 4.6, 773, 'https://www.seulementproduitsitaliens.be/spec_collezioni.php?CODICEWT=10AVVS92H', 4.492628, None, 3.9921334, 4.952543, None, 0),\n",
       " (1268, 'St. Henri Shiraz', 0, 7, 1305, 4.4, 17326, 'https://www.wijnig.nl/penfolds-st-henri-shiraz-2018.html', 3.0152445, None, 4.612774, 2.092192, 3.1030886, 1309),\n",
       " (1471, 'Siepi', 0, 394, 1620, 4.4, 8129, 'https://www.topwijnen.be/nl/product/wijnen/italie/toscane/igt-toscane/wn6010264/wn6010264', 3.156144, None, 3.4918664, 1.807986, 2.9856336, 755),\n",
       " (1647, 'Solare Toscana', 0, 394, 4772, 4.2, 4961, 'https://www.seulementproduitsitaliens.be/spec_collezioni.php?CODICE=2001658', 3.1583757, None, 3.3216164, 1.7018968, 3.0380645, 485),\n",
       " (1651, \"Tenuta Tignanello 'Solaia'\", 0, 394, 1252, 4.6, 33143, 'http://www.vivino.com/wines/159347388', 3.0641637, None, 3.4507132, 1.8885487, 2.9705827, 2131),\n",
       " (1652, 'Tignanello', 0, 394, 1252, 4.5, 142513, 'https://www.seulementproduitsitaliens.be/spec_collezioni.php?CODICEWT=10ANTI89B', 3.082814, None, 3.4132028, 1.7224381, 2.9867094, 8219),\n",
       " (1658, 'Tenuta Guado al Tasso Bolgheri Superiore', 0, 3345, 1252, 4.5, 33392, 'https://www.seulementproduitsitaliens.be/spec_collezioni.php?CODICEWT=10TBGT98M', 3.4173176, None, 3.9344313, 1.733469, 3.8648884, 791),\n",
       " (1675, 'Pian delle Vigne Brunello di Montalcino', 0, 1796, 1252, 4.3, 31363, 'https://www.wereldwijnonline.be/pian-delle-vigne-brunello-di-montalcino-2013-tosca.html', 3.7869322, None, 3.2263973, 1.6081825, 3.439114, 1176),\n",
       " (1688, 'Castello della Sala Cervaro della Sala', 0, 488, 1252, 4.4, 30203, 'https://www.seulementproduitsitaliens.be/vino/antinori-tenuta-castello-della-sala/143-antinori-castello-della-sala-cervaro-della-sala.html?codice=ANT009-2021', 3.8587165, None, 3.276715, 2.3621032, None, 1089),\n",
       " (1690, 'Castello della Sala Muffato della Sala', 0, 488, 1252, 4.3, 6356, 'https://www.seulementproduitsitaliens.be/spec_collezioni.php?CODICEWT=20ANMU18B', None, None, None, None, None, None)]"
      ]
     },
     "execution_count": 3,
     "metadata": {},
     "output_type": "execute_result"
    }
   ],
   "source": [
    "%%sql \n",
    "SELECT  *\n",
    "FROM wines\n",
    "LIMIT 10 ;\n"
   ]
  },
  {
   "cell_type": "markdown",
   "metadata": {},
   "source": [
    "## QUERY 1 :  We want to highlight 10 wines to increase our sales. Which ones should we choose and why?\n",
    "## I limited 10 wines that have the best ratings_count , I  did not order by rating_average because it depeneds on the number of counts "
   ]
  },
  {
   "cell_type": "code",
   "execution_count": 9,
   "metadata": {},
   "outputs": [
    {
     "name": "stdout",
     "output_type": "stream",
     "text": [
      " * sqlite:///vivino.db\n",
      "Done.\n"
     ]
    },
    {
     "data": {
      "text/html": [
       "<table>\n",
       "    <thead>\n",
       "        <tr>\n",
       "            <th>name</th>\n",
       "            <th>id</th>\n",
       "            <th>ratings_average</th>\n",
       "            <th>ratings_count</th>\n",
       "        </tr>\n",
       "    </thead>\n",
       "    <tbody>\n",
       "        <tr>\n",
       "            <td>Cabernet Sauvignon</td>\n",
       "            <td>66284</td>\n",
       "            <td>4.6</td>\n",
       "            <td>157944</td>\n",
       "        </tr>\n",
       "        <tr>\n",
       "            <td>Brut Champagne</td>\n",
       "            <td>86684</td>\n",
       "            <td>4.6</td>\n",
       "            <td>146377</td>\n",
       "        </tr>\n",
       "        <tr>\n",
       "            <td>Tignanello</td>\n",
       "            <td>1652</td>\n",
       "            <td>4.5</td>\n",
       "            <td>142513</td>\n",
       "        </tr>\n",
       "        <tr>\n",
       "            <td>Sassicaia</td>\n",
       "            <td>5078</td>\n",
       "            <td>4.6</td>\n",
       "            <td>107646</td>\n",
       "        </tr>\n",
       "        <tr>\n",
       "            <td>60 Sessantanni Old Vines Primitivo di Manduria</td>\n",
       "            <td>11890</td>\n",
       "            <td>4.5</td>\n",
       "            <td>94289</td>\n",
       "        </tr>\n",
       "        <tr>\n",
       "            <td>Costasera Amarone della Valpolicella Classico</td>\n",
       "            <td>21929</td>\n",
       "            <td>4.3</td>\n",
       "            <td>93397</td>\n",
       "        </tr>\n",
       "        <tr>\n",
       "            <td>ARTEMIS Cabernet Sauvignon</td>\n",
       "            <td>1107336</td>\n",
       "            <td>4.4</td>\n",
       "            <td>81351</td>\n",
       "        </tr>\n",
       "        <tr>\n",
       "            <td>Amarone della Valpolicella Classico</td>\n",
       "            <td>7103</td>\n",
       "            <td>4.3</td>\n",
       "            <td>77515</td>\n",
       "        </tr>\n",
       "        <tr>\n",
       "            <td>Opus One</td>\n",
       "            <td>1911534</td>\n",
       "            <td>4.6</td>\n",
       "            <td>77053</td>\n",
       "        </tr>\n",
       "        <tr>\n",
       "            <td>Pauillac (Premier Grand Cru Classé)</td>\n",
       "            <td>1684223</td>\n",
       "            <td>4.6</td>\n",
       "            <td>73615</td>\n",
       "        </tr>\n",
       "    </tbody>\n",
       "</table>"
      ],
      "text/plain": [
       "[('Cabernet Sauvignon', 66284, 4.6, 157944),\n",
       " ('Brut Champagne', 86684, 4.6, 146377),\n",
       " ('Tignanello', 1652, 4.5, 142513),\n",
       " ('Sassicaia', 5078, 4.6, 107646),\n",
       " ('60 Sessantanni Old Vines Primitivo di Manduria', 11890, 4.5, 94289),\n",
       " ('Costasera Amarone della Valpolicella Classico', 21929, 4.3, 93397),\n",
       " ('ARTEMIS Cabernet Sauvignon', 1107336, 4.4, 81351),\n",
       " ('Amarone della Valpolicella Classico', 7103, 4.3, 77515),\n",
       " ('Opus One', 1911534, 4.6, 77053),\n",
       " ('Pauillac (Premier Grand Cru Classé)', 1684223, 4.6, 73615)]"
      ]
     },
     "execution_count": 9,
     "metadata": {},
     "output_type": "execute_result"
    }
   ],
   "source": [
    "%%sql\n",
    "SELECT name, id , ratings_average, ratings_count\n",
    "FROM wines \n",
    "ORDER BY ratings_count DESC\n",
    "LIMIT 10 ; "
   ]
  },
  {
   "cell_type": "code",
   "execution_count": 42,
   "metadata": {},
   "outputs": [
    {
     "name": "stdout",
     "output_type": "stream",
     "text": [
      " * sqlite:///vivino.db\n",
      "Done.\n"
     ]
    },
    {
     "data": {
      "text/html": [
       "<table>\n",
       "    <thead>\n",
       "        <tr>\n",
       "            <th>id</th>\n",
       "            <th>name</th>\n",
       "        </tr>\n",
       "    </thead>\n",
       "    <tbody>\n",
       "        <tr>\n",
       "            <td>106</td>\n",
       "            <td>citrus</td>\n",
       "        </tr>\n",
       "        <tr>\n",
       "            <td>117</td>\n",
       "            <td>coffee</td>\n",
       "        </tr>\n",
       "        <tr>\n",
       "            <td>123</td>\n",
       "            <td>cream</td>\n",
       "        </tr>\n",
       "        <tr>\n",
       "            <td>195</td>\n",
       "            <td>green apple</td>\n",
       "        </tr>\n",
       "        <tr>\n",
       "            <td>417</td>\n",
       "            <td>toast</td>\n",
       "        </tr>\n",
       "    </tbody>\n",
       "</table>"
      ],
      "text/plain": [
       "[(106, 'citrus'),\n",
       " (117, 'coffee'),\n",
       " (123, 'cream'),\n",
       " (195, 'green apple'),\n",
       " (417, 'toast')]"
      ]
     },
     "execution_count": 42,
     "metadata": {},
     "output_type": "execute_result"
    }
   ],
   "source": [
    "%%sql\n",
    "\n",
    "SELECT *\n",
    "FROM keywords\n",
    "WHERE keywords.name IN ('coffee', 'toast', 'green apple', 'cream',  'citrus')\n",
    "LIMIT  10;\n"
   ]
  },
  {
   "cell_type": "markdown",
   "metadata": {},
   "source": [
    "## QUERY 4 : We detected that a big cluster of customers likes a specific combination of tastes. We identified a few keywords that match these tastes: coffee, toast, green apple, cream, and citrus (note that these keywords are case sensitive ⚠️). We would like you to find all the wines that are related to these keywords. Check that at least 10 users confirm those keywords, to ensure the accuracy of the selection. Additionally, identify an appropriate group name for this cluster."
   ]
  },
  {
   "cell_type": "code",
   "execution_count": 41,
   "metadata": {},
   "outputs": [
    {
     "name": "stdout",
     "output_type": "stream",
     "text": [
      " * sqlite:///vivino.db\n",
      "Done.\n"
     ]
    },
    {
     "data": {
      "text/html": [
       "<table>\n",
       "    <thead>\n",
       "        <tr>\n",
       "            <th>wine_id</th>\n",
       "            <th>group_name</th>\n",
       "            <th>count</th>\n",
       "            <th>name</th>\n",
       "        </tr>\n",
       "    </thead>\n",
       "    <tbody>\n",
       "        <tr>\n",
       "            <td>1127349</td>\n",
       "            <td>citrus_fruit</td>\n",
       "            <td>240</td>\n",
       "            <td>citrus</td>\n",
       "        </tr>\n",
       "        <tr>\n",
       "            <td>82698</td>\n",
       "            <td>oak</td>\n",
       "            <td>15</td>\n",
       "            <td>coffee</td>\n",
       "        </tr>\n",
       "        <tr>\n",
       "            <td>1166837</td>\n",
       "            <td>microbio</td>\n",
       "            <td>18</td>\n",
       "            <td>cream</td>\n",
       "        </tr>\n",
       "        <tr>\n",
       "            <td>1127349</td>\n",
       "            <td>tree_fruit</td>\n",
       "            <td>76</td>\n",
       "            <td>green apple</td>\n",
       "        </tr>\n",
       "        <tr>\n",
       "            <td>1127349</td>\n",
       "            <td>non_oak</td>\n",
       "            <td>100</td>\n",
       "            <td>toast</td>\n",
       "        </tr>\n",
       "    </tbody>\n",
       "</table>"
      ],
      "text/plain": [
       "[(1127349, 'citrus_fruit', 240, 'citrus'),\n",
       " (82698, 'oak', 15, 'coffee'),\n",
       " (1166837, 'microbio', 18, 'cream'),\n",
       " (1127349, 'tree_fruit', 76, 'green apple'),\n",
       " (1127349, 'non_oak', 100, 'toast')]"
      ]
     },
     "execution_count": 41,
     "metadata": {},
     "output_type": "execute_result"
    }
   ],
   "source": [
    "\n",
    "%%sql\n",
    "\n",
    "\n",
    "SELECT keywords_wine.wine_id, keywords_wine.group_name, keywords_wine.count, keywords.name\n",
    "FROM keywords_wine  INNER JOIN keywords  ON keywords_wine.keyword_id = keywords.id \n",
    "WHERE keywords.name In('coffee', 'toast', 'green apple', 'cream',  'citrus') and  keywords_wine.count >= 10\n",
    "GROUP BY  keywords.name;\n",
    "\n",
    "    \n",
    "\n",
    "\n"
   ]
  },
  {
   "cell_type": "markdown",
   "metadata": {},
   "source": [
    "## QUERY 2 :\n",
    "## We have a limited marketing budget for this year. Which country should we prioritise and why?"
   ]
  },
  {
   "cell_type": "code",
   "execution_count": 48,
   "metadata": {},
   "outputs": [
    {
     "name": "stdout",
     "output_type": "stream",
     "text": [
      " * sqlite:///vivino.db\n",
      "Done.\n"
     ]
    },
    {
     "data": {
      "text/html": [
       "<table>\n",
       "    <thead>\n",
       "        <tr>\n",
       "            <th>code</th>\n",
       "            <th>name</th>\n",
       "            <th>regions_count</th>\n",
       "            <th>users_count</th>\n",
       "            <th>wines_count</th>\n",
       "            <th>wineries_count</th>\n",
       "        </tr>\n",
       "    </thead>\n",
       "    <tbody>\n",
       "        <tr>\n",
       "            <td>us</td>\n",
       "            <td>États-Unis</td>\n",
       "            <td>362</td>\n",
       "            <td>12273684</td>\n",
       "            <td>204060</td>\n",
       "            <td>28145</td>\n",
       "        </tr>\n",
       "    </tbody>\n",
       "</table>"
      ],
      "text/plain": [
       "[('us', 'États-Unis', 362, 12273684, 204060, 28145)]"
      ]
     },
     "execution_count": 48,
     "metadata": {},
     "output_type": "execute_result"
    }
   ],
   "source": [
    "%%sql\n",
    "SELECT *\n",
    "FROM countries\n",
    "GROUP BY  name \n",
    "ORDER BY users_count DESC\n",
    "LIMIT 1;\n"
   ]
  },
  {
   "cell_type": "markdown",
   "metadata": {},
   "source": [
    "## QUERY 3 :\n",
    "## We would like to give awards to the best wineries. Come up with 3 relevant ones. Which wineries should we choose and why?"
   ]
  },
  {
   "cell_type": "code",
   "execution_count": 66,
   "metadata": {},
   "outputs": [
    {
     "name": "stdout",
     "output_type": "stream",
     "text": [
      " * sqlite:///vivino.db\n",
      "Done.\n"
     ]
    },
    {
     "data": {
      "text/html": [
       "<table>\n",
       "    <thead>\n",
       "        <tr>\n",
       "            <th>id</th>\n",
       "            <th>name</th>\n",
       "            <th>total_ratings_count</th>\n",
       "        </tr>\n",
       "    </thead>\n",
       "    <tbody>\n",
       "        <tr>\n",
       "            <td>1471</td>\n",
       "            <td>Siepi</td>\n",
       "            <td>4981</td>\n",
       "        </tr>\n",
       "        <tr>\n",
       "            <td>1651</td>\n",
       "            <td>Tenuta Tignanello &#x27;Solaia&#x27;</td>\n",
       "            <td>2472</td>\n",
       "        </tr>\n",
       "        <tr>\n",
       "            <td>1652</td>\n",
       "            <td>Tignanello</td>\n",
       "            <td>741</td>\n",
       "        </tr>\n",
       "    </tbody>\n",
       "</table>"
      ],
      "text/plain": [
       "[(1471, 'Siepi', 4981),\n",
       " (1651, \"Tenuta Tignanello 'Solaia'\", 2472),\n",
       " (1652, 'Tignanello', 741)]"
      ]
     },
     "execution_count": 66,
     "metadata": {},
     "output_type": "execute_result"
    }
   ],
   "source": [
    "%%sql\n",
    "SELECT\n",
    "    wineries.id,\n",
    "    wineries.name,\n",
    "    SUM(wines.ratings_count) AS total_ratings_count\n",
    "   \n",
    "FROM\n",
    "    wineries\n",
    "JOIN\n",
    "    wines ON wineries.id = wines.winery_id\n",
    "GROUP BY\n",
    "    wineries.id,\n",
    "    wineries.name\n",
    "ORDER BY\n",
    "    total_ratings_count DESC\n",
    "LIMIT 3;\n",
    "\n"
   ]
  },
  {
   "cell_type": "markdown",
   "metadata": {},
   "source": [
    "## QUERY 5:\n",
    "## We would like to select wines that are easy to find all over the world. Find the top 3 most common grapes all over the world and for each grape, give us the the 5 best rated wines."
   ]
  },
  {
   "cell_type": "code",
   "execution_count": null,
   "metadata": {},
   "outputs": [],
   "source": [
    "%%sql\n"
   ]
  }
 ],
 "metadata": {
  "kernelspec": {
   "display_name": "Python 3",
   "language": "python",
   "name": "python3"
  },
  "language_info": {
   "codemirror_mode": {
    "name": "ipython",
    "version": 3
   },
   "file_extension": ".py",
   "mimetype": "text/x-python",
   "name": "python",
   "nbconvert_exporter": "python",
   "pygments_lexer": "ipython3",
   "version": "3.12.1"
  }
 },
 "nbformat": 4,
 "nbformat_minor": 2
}
