{
 "cells": [
  {
   "cell_type": "code",
   "execution_count": 2,
   "metadata": {},
   "outputs": [],
   "source": [
    "%load_ext sql\n"
   ]
  },
  {
   "cell_type": "code",
   "execution_count": 3,
   "metadata": {},
   "outputs": [],
   "source": [
    "%sql sqlite:///vivino.db"
   ]
  },
  {
   "cell_type": "code",
   "execution_count": 4,
   "metadata": {},
   "outputs": [
    {
     "name": "stdout",
     "output_type": "stream",
     "text": [
      " * sqlite:///vivino.db\n",
      "Done.\n"
     ]
    },
    {
     "data": {
      "text/html": [
       "<table>\n",
       "    <thead>\n",
       "        <tr>\n",
       "            <th>id</th>\n",
       "            <th>name</th>\n",
       "            <th>is_natural</th>\n",
       "            <th>region_id</th>\n",
       "            <th>winery_id</th>\n",
       "            <th>ratings_average</th>\n",
       "            <th>ratings_count</th>\n",
       "            <th>url</th>\n",
       "            <th>acidity</th>\n",
       "            <th>fizziness</th>\n",
       "            <th>intensity</th>\n",
       "            <th>sweetness</th>\n",
       "            <th>tannin</th>\n",
       "            <th>user_structure_count</th>\n",
       "        </tr>\n",
       "    </thead>\n",
       "    <tbody>\n",
       "        <tr>\n",
       "            <td>1213</td>\n",
       "            <td>Vin Santo di Montepulciano</td>\n",
       "            <td>0</td>\n",
       "            <td>2693</td>\n",
       "            <td>1574</td>\n",
       "            <td>4.6</td>\n",
       "            <td>773</td>\n",
       "            <td>https://www.seulementproduitsitaliens.be/spec_collezioni.php?CODICEWT=10AVVS92H</td>\n",
       "            <td>4.492628</td>\n",
       "            <td>None</td>\n",
       "            <td>3.9921334</td>\n",
       "            <td>4.952543</td>\n",
       "            <td>None</td>\n",
       "            <td>0</td>\n",
       "        </tr>\n",
       "        <tr>\n",
       "            <td>1268</td>\n",
       "            <td>St. Henri Shiraz</td>\n",
       "            <td>0</td>\n",
       "            <td>7</td>\n",
       "            <td>1305</td>\n",
       "            <td>4.4</td>\n",
       "            <td>17326</td>\n",
       "            <td>https://www.wijnig.nl/penfolds-st-henri-shiraz-2018.html</td>\n",
       "            <td>3.0152445</td>\n",
       "            <td>None</td>\n",
       "            <td>4.612774</td>\n",
       "            <td>2.092192</td>\n",
       "            <td>3.1030886</td>\n",
       "            <td>1309</td>\n",
       "        </tr>\n",
       "        <tr>\n",
       "            <td>1471</td>\n",
       "            <td>Siepi</td>\n",
       "            <td>0</td>\n",
       "            <td>394</td>\n",
       "            <td>1620</td>\n",
       "            <td>4.4</td>\n",
       "            <td>8129</td>\n",
       "            <td>https://www.topwijnen.be/nl/product/wijnen/italie/toscane/igt-toscane/wn6010264/wn6010264</td>\n",
       "            <td>3.156144</td>\n",
       "            <td>None</td>\n",
       "            <td>3.4918664</td>\n",
       "            <td>1.807986</td>\n",
       "            <td>2.9856336</td>\n",
       "            <td>755</td>\n",
       "        </tr>\n",
       "        <tr>\n",
       "            <td>1647</td>\n",
       "            <td>Solare Toscana</td>\n",
       "            <td>0</td>\n",
       "            <td>394</td>\n",
       "            <td>4772</td>\n",
       "            <td>4.2</td>\n",
       "            <td>4961</td>\n",
       "            <td>https://www.seulementproduitsitaliens.be/spec_collezioni.php?CODICE=2001658</td>\n",
       "            <td>3.1583757</td>\n",
       "            <td>None</td>\n",
       "            <td>3.3216164</td>\n",
       "            <td>1.7018968</td>\n",
       "            <td>3.0380645</td>\n",
       "            <td>485</td>\n",
       "        </tr>\n",
       "        <tr>\n",
       "            <td>1651</td>\n",
       "            <td>Tenuta Tignanello &#x27;Solaia&#x27;</td>\n",
       "            <td>0</td>\n",
       "            <td>394</td>\n",
       "            <td>1252</td>\n",
       "            <td>4.6</td>\n",
       "            <td>33143</td>\n",
       "            <td>http://www.vivino.com/wines/159347388</td>\n",
       "            <td>3.0641637</td>\n",
       "            <td>None</td>\n",
       "            <td>3.4507132</td>\n",
       "            <td>1.8885487</td>\n",
       "            <td>2.9705827</td>\n",
       "            <td>2131</td>\n",
       "        </tr>\n",
       "    </tbody>\n",
       "</table>"
      ],
      "text/plain": [
       "[(1213, 'Vin Santo di Montepulciano', 0, 2693, 1574, 4.6, 773, 'https://www.seulementproduitsitaliens.be/spec_collezioni.php?CODICEWT=10AVVS92H', 4.492628, None, 3.9921334, 4.952543, None, 0),\n",
       " (1268, 'St. Henri Shiraz', 0, 7, 1305, 4.4, 17326, 'https://www.wijnig.nl/penfolds-st-henri-shiraz-2018.html', 3.0152445, None, 4.612774, 2.092192, 3.1030886, 1309),\n",
       " (1471, 'Siepi', 0, 394, 1620, 4.4, 8129, 'https://www.topwijnen.be/nl/product/wijnen/italie/toscane/igt-toscane/wn6010264/wn6010264', 3.156144, None, 3.4918664, 1.807986, 2.9856336, 755),\n",
       " (1647, 'Solare Toscana', 0, 394, 4772, 4.2, 4961, 'https://www.seulementproduitsitaliens.be/spec_collezioni.php?CODICE=2001658', 3.1583757, None, 3.3216164, 1.7018968, 3.0380645, 485),\n",
       " (1651, \"Tenuta Tignanello 'Solaia'\", 0, 394, 1252, 4.6, 33143, 'http://www.vivino.com/wines/159347388', 3.0641637, None, 3.4507132, 1.8885487, 2.9705827, 2131)]"
      ]
     },
     "execution_count": 4,
     "metadata": {},
     "output_type": "execute_result"
    }
   ],
   "source": [
    "%%sql\n",
    "SELECT * FROM wines LIMIT 5;"
   ]
  },
  {
   "cell_type": "markdown",
   "metadata": {},
   "source": [
    "### 1: 10 Wines to increase sales\n",
    "I chose the wines based on high average ratings and a significant number of ratings\n",
    "High average ratings generally indicate customer satisfaction and the quality of the wine. It is a common assumption that products with higher ratings are more likely to attract new customers and retain existing ones."
   ]
  },
  {
   "cell_type": "code",
   "execution_count": 5,
   "metadata": {},
   "outputs": [
    {
     "name": "stdout",
     "output_type": "stream",
     "text": [
      " * sqlite:///vivino.db\n",
      "Done.\n"
     ]
    },
    {
     "data": {
      "text/html": [
       "<table>\n",
       "    <thead>\n",
       "        <tr>\n",
       "            <th>id</th>\n",
       "            <th>name</th>\n",
       "            <th>ratings_average</th>\n",
       "            <th>ratings_count</th>\n",
       "        </tr>\n",
       "    </thead>\n",
       "    <tbody>\n",
       "        <tr>\n",
       "            <td>1611255</td>\n",
       "            <td>Cabernet Sauvignon</td>\n",
       "            <td>4.8</td>\n",
       "            <td>2941</td>\n",
       "        </tr>\n",
       "        <tr>\n",
       "            <td>1187886</td>\n",
       "            <td>Amarone della Valpolicella Classico Riserva</td>\n",
       "            <td>4.8</td>\n",
       "            <td>587</td>\n",
       "        </tr>\n",
       "        <tr>\n",
       "            <td>6534388</td>\n",
       "            <td>Fratini Bolgheri Superiore</td>\n",
       "            <td>4.8</td>\n",
       "            <td>153</td>\n",
       "        </tr>\n",
       "        <tr>\n",
       "            <td>5806244</td>\n",
       "            <td>Mágico</td>\n",
       "            <td>4.8</td>\n",
       "            <td>146</td>\n",
       "        </tr>\n",
       "        <tr>\n",
       "            <td>7266631</td>\n",
       "            <td>Cristal Rosé Vinothèque</td>\n",
       "            <td>4.8</td>\n",
       "            <td>88</td>\n",
       "        </tr>\n",
       "        <tr>\n",
       "            <td>9330771</td>\n",
       "            <td>Batard-Montrachet Grand Cru</td>\n",
       "            <td>4.8</td>\n",
       "            <td>34</td>\n",
       "        </tr>\n",
       "        <tr>\n",
       "            <td>77137</td>\n",
       "            <td>Unico</td>\n",
       "            <td>4.7</td>\n",
       "            <td>45140</td>\n",
       "        </tr>\n",
       "        <tr>\n",
       "            <td>1153863</td>\n",
       "            <td>Sauternes</td>\n",
       "            <td>4.7</td>\n",
       "            <td>44126</td>\n",
       "        </tr>\n",
       "        <tr>\n",
       "            <td>66294</td>\n",
       "            <td>Special Selection Cabernet Sauvignon</td>\n",
       "            <td>4.7</td>\n",
       "            <td>41236</td>\n",
       "        </tr>\n",
       "        <tr>\n",
       "            <td>1166837</td>\n",
       "            <td>Pomerol</td>\n",
       "            <td>4.7</td>\n",
       "            <td>32157</td>\n",
       "        </tr>\n",
       "    </tbody>\n",
       "</table>"
      ],
      "text/plain": [
       "[(1611255, 'Cabernet Sauvignon', 4.8, 2941),\n",
       " (1187886, 'Amarone della Valpolicella Classico Riserva', 4.8, 587),\n",
       " (6534388, 'Fratini Bolgheri Superiore', 4.8, 153),\n",
       " (5806244, 'Mágico', 4.8, 146),\n",
       " (7266631, 'Cristal Rosé Vinothèque', 4.8, 88),\n",
       " (9330771, 'Batard-Montrachet Grand Cru', 4.8, 34),\n",
       " (77137, 'Unico', 4.7, 45140),\n",
       " (1153863, 'Sauternes', 4.7, 44126),\n",
       " (66294, 'Special Selection Cabernet Sauvignon', 4.7, 41236),\n",
       " (1166837, 'Pomerol', 4.7, 32157)]"
      ]
     },
     "execution_count": 5,
     "metadata": {},
     "output_type": "execute_result"
    }
   ],
   "source": [
    "%%sql\n",
    "SELECT id, name, ratings_average, ratings_count\n",
    "FROM wines\n",
    "ORDER BY ratings_average DESC, ratings_count DESC\n",
    "LIMIT 10;"
   ]
  },
  {
   "cell_type": "markdown",
   "metadata": {},
   "source": [
    "### 2: Prioritize a country based on marketing budget:\n",
    "Assuming that a lower number of wineries means less marketing expense, prioritized countries with fewer wineries, which might correlate to lower competition and marketing expense so each winery might be more recognizable. This could potentially reduce marketing costs as each marketing action (like an ad or an event) could reach a relatively larger percentage of the country's wine market. It could also mean that the wine market is less saturated in that country, allowing for easier penetration and brand recognition."
   ]
  },
  {
   "cell_type": "code",
   "execution_count": 8,
   "metadata": {},
   "outputs": [
    {
     "name": "stdout",
     "output_type": "stream",
     "text": [
      " * sqlite:///vivino.db\n",
      "Done.\n"
     ]
    },
    {
     "data": {
      "text/html": [
       "<table>\n",
       "    <thead>\n",
       "        <tr>\n",
       "            <th>code</th>\n",
       "            <th>name</th>\n",
       "        </tr>\n",
       "    </thead>\n",
       "    <tbody>\n",
       "        <tr>\n",
       "            <td>md</td>\n",
       "            <td>Moldavie</td>\n",
       "        </tr>\n",
       "    </tbody>\n",
       "</table>"
      ],
      "text/plain": [
       "[('md', 'Moldavie')]"
      ]
     },
     "execution_count": 8,
     "metadata": {},
     "output_type": "execute_result"
    }
   ],
   "source": [
    "%%sql\n",
    "SELECT code, name\n",
    "FROM countries\n",
    "ORDER BY wineries_count ASC\n",
    "LIMIT 1;"
   ]
  },
  {
   "cell_type": "markdown",
   "metadata": {},
   "source": [
    "### 3: Awards to the best wineries:\n",
    "Chose wineries based on the highest average rating of their wines.\n",
    "Attention, due to known issues with the database, this query might not provide a useful answer because there's a mismatch between winery names and wine names."
   ]
  },
  {
   "cell_type": "code",
   "execution_count": 9,
   "metadata": {},
   "outputs": [
    {
     "name": "stdout",
     "output_type": "stream",
     "text": [
      " * sqlite:///vivino.db\n",
      "Done.\n"
     ]
    },
    {
     "data": {
      "text/html": [
       "<table>\n",
       "    <thead>\n",
       "        <tr>\n",
       "            <th>winery_id</th>\n",
       "            <th>name</th>\n",
       "            <th>avg_rating</th>\n",
       "        </tr>\n",
       "    </thead>\n",
       "    <tbody>\n",
       "        <tr>\n",
       "            <td>75712</td>\n",
       "            <td>Corte di Cama Sforzato di Valtellina</td>\n",
       "            <td>4.5</td>\n",
       "        </tr>\n",
       "        <tr>\n",
       "            <td>1651</td>\n",
       "            <td>Tenuta Tignanello &#x27;Solaia&#x27;</td>\n",
       "            <td>4.5</td>\n",
       "        </tr>\n",
       "        <tr>\n",
       "            <td>1652</td>\n",
       "            <td>Tignanello</td>\n",
       "            <td>4.4</td>\n",
       "        </tr>\n",
       "    </tbody>\n",
       "</table>"
      ],
      "text/plain": [
       "[(75712, 'Corte di Cama Sforzato di Valtellina', 4.5),\n",
       " (1651, \"Tenuta Tignanello 'Solaia'\", 4.5),\n",
       " (1652, 'Tignanello', 4.4)]"
      ]
     },
     "execution_count": 9,
     "metadata": {},
     "output_type": "execute_result"
    }
   ],
   "source": [
    "%%sql\n",
    "SELECT winery_id, wineries.name, AVG(ratings_average) as avg_rating\n",
    "FROM wines\n",
    "JOIN wineries ON wineries.id = wines.winery_id\n",
    "GROUP BY winery_id\n",
    "ORDER BY avg_rating DESC\n",
    "LIMIT 3;"
   ]
  },
  {
   "cell_type": "markdown",
   "metadata": {},
   "source": [
    "### 4: Find wines with specific taste keywords:\n",
    "Finding wines matching all 5 of the keywords and having at least 10 user confirmations.\n",
    "This query might be uncertain if the count field does not accurately reflect the number of user confirmations for each keyword.\n",
    "Name suggestion: \"Orchard Mornings\""
   ]
  },
  {
   "cell_type": "code",
   "execution_count": 36,
   "metadata": {},
   "outputs": [
    {
     "name": "stdout",
     "output_type": "stream",
     "text": [
      " * sqlite:///vivino.db\n",
      "Done.\n"
     ]
    },
    {
     "data": {
      "text/html": [
       "<table>\n",
       "    <thead>\n",
       "        <tr>\n",
       "            <th>id</th>\n",
       "            <th>name</th>\n",
       "            <th>user_confirmed</th>\n",
       "        </tr>\n",
       "    </thead>\n",
       "    <tbody>\n",
       "        <tr>\n",
       "            <td>18931</td>\n",
       "            <td>La Grande Année Brut Champagne</td>\n",
       "            <td>7</td>\n",
       "        </tr>\n",
       "        <tr>\n",
       "            <td>74304</td>\n",
       "            <td>Cristal Brut Champagne (Millésimé)</td>\n",
       "            <td>7</td>\n",
       "        </tr>\n",
       "        <tr>\n",
       "            <td>79162</td>\n",
       "            <td>Belle Epoque Brut Champagne</td>\n",
       "            <td>7</td>\n",
       "        </tr>\n",
       "        <tr>\n",
       "            <td>79631</td>\n",
       "            <td>Vintage</td>\n",
       "            <td>7</td>\n",
       "        </tr>\n",
       "        <tr>\n",
       "            <td>79836</td>\n",
       "            <td>La Grande Dame Brut Champagne</td>\n",
       "            <td>7</td>\n",
       "        </tr>\n",
       "        <tr>\n",
       "            <td>86684</td>\n",
       "            <td>Brut Champagne</td>\n",
       "            <td>7</td>\n",
       "        </tr>\n",
       "        <tr>\n",
       "            <td>1105696</td>\n",
       "            <td>Trebbiano d&#x27;Abruzzo</td>\n",
       "            <td>7</td>\n",
       "        </tr>\n",
       "        <tr>\n",
       "            <td>1127349</td>\n",
       "            <td>Le Mesnil Blanc de Blancs (Cuvée S) Brut Champagne</td>\n",
       "            <td>7</td>\n",
       "        </tr>\n",
       "        <tr>\n",
       "            <td>1135215</td>\n",
       "            <td>Sauternes (Premier Grand Cru Classé)</td>\n",
       "            <td>7</td>\n",
       "        </tr>\n",
       "        <tr>\n",
       "            <td>1136950</td>\n",
       "            <td>Comtes de Champagne Blanc de Blancs</td>\n",
       "            <td>7</td>\n",
       "        </tr>\n",
       "        <tr>\n",
       "            <td>1153863</td>\n",
       "            <td>Sauternes</td>\n",
       "            <td>7</td>\n",
       "        </tr>\n",
       "        <tr>\n",
       "            <td>1164702</td>\n",
       "            <td>R.D Extra Brut Champagne (Récemment Dégorgé)</td>\n",
       "            <td>7</td>\n",
       "        </tr>\n",
       "        <tr>\n",
       "            <td>1167182</td>\n",
       "            <td>MV</td>\n",
       "            <td>7</td>\n",
       "        </tr>\n",
       "        <tr>\n",
       "            <td>1192720</td>\n",
       "            <td>Dom Ruinart Blanc de Blancs Brut Champagne</td>\n",
       "            <td>7</td>\n",
       "        </tr>\n",
       "        <tr>\n",
       "            <td>1441099</td>\n",
       "            <td>Blanc des Millénaires</td>\n",
       "            <td>7</td>\n",
       "        </tr>\n",
       "        <tr>\n",
       "            <td>1692390</td>\n",
       "            <td>Sir Winston Churchill Brut Champagne</td>\n",
       "            <td>7</td>\n",
       "        </tr>\n",
       "        <tr>\n",
       "            <td>3102815</td>\n",
       "            <td>P2 Plénitude Brut Champagne</td>\n",
       "            <td>7</td>\n",
       "        </tr>\n",
       "        <tr>\n",
       "            <td>3630450</td>\n",
       "            <td>Cuvée des Enchanteleurs Brut Champagne</td>\n",
       "            <td>7</td>\n",
       "        </tr>\n",
       "        <tr>\n",
       "            <td>7122486</td>\n",
       "            <td>Grande Cuvée</td>\n",
       "            <td>7</td>\n",
       "        </tr>\n",
       "    </tbody>\n",
       "</table>"
      ],
      "text/plain": [
       "[(18931, 'La Grande Année Brut Champagne', 7),\n",
       " (74304, 'Cristal Brut Champagne (Millésimé)', 7),\n",
       " (79162, 'Belle Epoque Brut Champagne', 7),\n",
       " (79631, 'Vintage', 7),\n",
       " (79836, 'La Grande Dame Brut Champagne', 7),\n",
       " (86684, 'Brut Champagne', 7),\n",
       " (1105696, \"Trebbiano d'Abruzzo\", 7),\n",
       " (1127349, 'Le Mesnil Blanc de Blancs (Cuvée S) Brut Champagne', 7),\n",
       " (1135215, 'Sauternes (Premier Grand Cru Classé)', 7),\n",
       " (1136950, 'Comtes de Champagne Blanc de Blancs', 7),\n",
       " (1153863, 'Sauternes', 7),\n",
       " (1164702, 'R.D Extra Brut Champagne (Récemment Dégorgé)', 7),\n",
       " (1167182, 'MV', 7),\n",
       " (1192720, 'Dom Ruinart Blanc de Blancs Brut Champagne', 7),\n",
       " (1441099, 'Blanc des Millénaires', 7),\n",
       " (1692390, 'Sir Winston Churchill Brut Champagne', 7),\n",
       " (3102815, 'P2 Plénitude Brut Champagne', 7),\n",
       " (3630450, 'Cuvée des Enchanteleurs Brut Champagne', 7),\n",
       " (7122486, 'Grande Cuvée', 7)]"
      ]
     },
     "execution_count": 36,
     "metadata": {},
     "output_type": "execute_result"
    }
   ],
   "source": [
    "%%sql\n",
    "SELECT w.id, w.name, COUNT(*) as user_confirmed\n",
    "FROM wines w\n",
    "JOIN keywords_wine kw ON w.id = kw.wine_id\n",
    "JOIN keywords k ON k.id = kw.keyword_id\n",
    "WHERE k.name IN ('coffee', 'toast', 'green apple', 'cream', 'citrus') AND kw.count >= 10\n",
    "GROUP BY w.id, w.name\n",
    "HAVING COUNT(DISTINCT k.name) >= 5\n",
    "ORDER BY user_confirmed DESC;"
   ]
  },
  {
   "cell_type": "markdown",
   "metadata": {},
   "source": [
    "### 5: Select wines that are easy to find worldwide:\n",
    "Finding the top 3 most common grapes and the best 5 wines for each\n",
    "This query might not provide a useful answer as the exact grape for an individual wine is not always known."
   ]
  },
  {
   "cell_type": "code",
   "execution_count": 15,
   "metadata": {},
   "outputs": [
    {
     "name": "stdout",
     "output_type": "stream",
     "text": [
      " * sqlite:///vivino.db\n",
      "(sqlite3.OperationalError) no such column: g.name\n",
      "[SQL: WITH CommonGrapes AS (\n",
      "SELECT grape_id\n",
      "FROM most_used_grapes_per_country\n",
      "ORDER BY wines_count DESC\n",
      "LIMIT 3\n",
      ")\n",
      "SELECT g.name AS grape_name, w.name, v.ratings_average\n",
      "FROM vintages v\n",
      "JOIN wines w ON v.wine_id = w.id\n",
      "JOIN CommonGrapes cg ON w.id = cg.grape_id\n",
      "ORDER BY v.ratings_average DESC\n",
      "LIMIT 5;]\n",
      "(Background on this error at: https://sqlalche.me/e/20/e3q8)\n"
     ]
    }
   ],
   "source": [
    "%%sql\n",
    "WITH CommonGrapes AS (\n",
    "SELECT grape_id\n",
    "FROM most_used_grapes_per_country\n",
    "ORDER BY wines_count DESC\n",
    "LIMIT 3\n",
    ")\n",
    "SELECT g.name AS grape_name, w.name, v.ratings_average\n",
    "FROM vintages v\n",
    "JOIN wines w ON v.wine_id = w.id\n",
    "JOIN CommonGrapes cg ON w.id = cg.grape_id\n",
    "ORDER BY v.ratings_average DESC\n",
    "LIMIT 5;"
   ]
  },
  {
   "cell_type": "markdown",
   "metadata": {},
   "source": [
    "### 6: Create a country leaderboard:\n",
    "Average wine rating for each country"
   ]
  },
  {
   "cell_type": "code",
   "execution_count": 17,
   "metadata": {},
   "outputs": [
    {
     "name": "stdout",
     "output_type": "stream",
     "text": [
      " * sqlite:///vivino.db\n",
      "Done.\n"
     ]
    },
    {
     "data": {
      "text/html": [
       "<table>\n",
       "    <thead>\n",
       "        <tr>\n",
       "            <th>name</th>\n",
       "            <th>avg_rating</th>\n",
       "        </tr>\n",
       "    </thead>\n",
       "    <tbody>\n",
       "        <tr>\n",
       "            <td>Allemagne</td>\n",
       "            <td>4.500000000000001</td>\n",
       "        </tr>\n",
       "        <tr>\n",
       "            <td>Israël</td>\n",
       "            <td>4.5</td>\n",
       "        </tr>\n",
       "        <tr>\n",
       "            <td>États-Unis</td>\n",
       "            <td>4.4905405405405405</td>\n",
       "        </tr>\n",
       "        <tr>\n",
       "            <td>Moldavie</td>\n",
       "            <td>4.4799999999999995</td>\n",
       "        </tr>\n",
       "        <tr>\n",
       "            <td>Hongrie</td>\n",
       "            <td>4.472727272727273</td>\n",
       "        </tr>\n",
       "        <tr>\n",
       "            <td>Afrique du Sud</td>\n",
       "            <td>4.459090909090909</td>\n",
       "        </tr>\n",
       "        <tr>\n",
       "            <td>Australie</td>\n",
       "            <td>4.458333333333333</td>\n",
       "        </tr>\n",
       "        <tr>\n",
       "            <td>France</td>\n",
       "            <td>4.447129909365562</td>\n",
       "        </tr>\n",
       "        <tr>\n",
       "            <td>Espagne</td>\n",
       "            <td>4.4436170212765935</td>\n",
       "        </tr>\n",
       "        <tr>\n",
       "            <td>Portugal</td>\n",
       "            <td>4.435714285714287</td>\n",
       "        </tr>\n",
       "        <tr>\n",
       "            <td>Chili</td>\n",
       "            <td>4.43125</td>\n",
       "        </tr>\n",
       "        <tr>\n",
       "            <td>Italie</td>\n",
       "            <td>4.430026109660581</td>\n",
       "        </tr>\n",
       "        <tr>\n",
       "            <td>Argentine</td>\n",
       "            <td>4.417391304347826</td>\n",
       "        </tr>\n",
       "        <tr>\n",
       "            <td>Roumanie</td>\n",
       "            <td>4.4</td>\n",
       "        </tr>\n",
       "        <tr>\n",
       "            <td>Grèce</td>\n",
       "            <td>4.4</td>\n",
       "        </tr>\n",
       "        <tr>\n",
       "            <td>Suisse</td>\n",
       "            <td>4.35</td>\n",
       "        </tr>\n",
       "        <tr>\n",
       "            <td>Croatie</td>\n",
       "            <td>4.3</td>\n",
       "        </tr>\n",
       "    </tbody>\n",
       "</table>"
      ],
      "text/plain": [
       "[('Allemagne', 4.500000000000001),\n",
       " ('Israël', 4.5),\n",
       " ('États-Unis', 4.4905405405405405),\n",
       " ('Moldavie', 4.4799999999999995),\n",
       " ('Hongrie', 4.472727272727273),\n",
       " ('Afrique du Sud', 4.459090909090909),\n",
       " ('Australie', 4.458333333333333),\n",
       " ('France', 4.447129909365562),\n",
       " ('Espagne', 4.4436170212765935),\n",
       " ('Portugal', 4.435714285714287),\n",
       " ('Chili', 4.43125),\n",
       " ('Italie', 4.430026109660581),\n",
       " ('Argentine', 4.417391304347826),\n",
       " ('Roumanie', 4.4),\n",
       " ('Grèce', 4.4),\n",
       " ('Suisse', 4.35),\n",
       " ('Croatie', 4.3)]"
      ]
     },
     "execution_count": 17,
     "metadata": {},
     "output_type": "execute_result"
    }
   ],
   "source": [
    "%%sql\n",
    "SELECT c.name, AVG(w.ratings_average) as avg_rating\n",
    "FROM wines w\n",
    "JOIN regions r ON w.region_id = r.id\n",
    "JOIN countries c ON r.country_code = c.code\n",
    "GROUP BY c.code\n",
    "ORDER BY avg_rating DESC;"
   ]
  },
  {
   "cell_type": "code",
   "execution_count": 34,
   "metadata": {},
   "outputs": [
    {
     "data": {
      "application/vnd.plotly.v1+json": {
       "config": {
        "plotlyServerURL": "https://plot.ly"
       },
       "data": [
        {
         "alignmentgroup": "True",
         "hovertemplate": "Country Code=%{x}<br>Average Rating=%{marker.color}<extra></extra>",
         "legendgroup": "",
         "marker": {
          "color": [
           4.500000000000001,
           4.5,
           4.4905405405405405,
           4.4799999999999995,
           4.472727272727273,
           4.459090909090909,
           4.458333333333333,
           4.447129909365562,
           4.4436170212765935,
           4.435714285714287,
           4.43125,
           4.430026109660581,
           4.417391304347826,
           4.4,
           4.4,
           4.35,
           4.3
          ],
          "coloraxis": "coloraxis",
          "pattern": {
           "shape": ""
          }
         },
         "name": "",
         "offsetgroup": "",
         "orientation": "v",
         "showlegend": false,
         "text": [
          4.500000000000001,
          4.5,
          4.4905405405405405,
          4.4799999999999995,
          4.472727272727273,
          4.459090909090909,
          4.458333333333333,
          4.447129909365562,
          4.4436170212765935,
          4.435714285714287,
          4.43125,
          4.430026109660581,
          4.417391304347826,
          4.4,
          4.4,
          4.35,
          4.3
         ],
         "textposition": "auto",
         "type": "bar",
         "x": [
          "Germany",
          "Israel",
          "United States",
          "Moldova",
          "Hungary",
          "South Africa",
          "Australia",
          "France",
          "Spain",
          "Portugal",
          "Chile",
          "Italy",
          "Argentina",
          "Romania",
          "Greece",
          "Switzerland",
          "Croatia"
         ],
         "xaxis": "x",
         "y": [
          4.500000000000001,
          4.5,
          4.4905405405405405,
          4.4799999999999995,
          4.472727272727273,
          4.459090909090909,
          4.458333333333333,
          4.447129909365562,
          4.4436170212765935,
          4.435714285714287,
          4.43125,
          4.430026109660581,
          4.417391304347826,
          4.4,
          4.4,
          4.35,
          4.3
         ],
         "yaxis": "y"
        }
       ],
       "layout": {
        "barmode": "relative",
        "coloraxis": {
         "colorbar": {
          "title": {
           "text": "Average Rating"
          }
         },
         "colorscale": [
          [
           0,
           "#0d0887"
          ],
          [
           0.1111111111111111,
           "#46039f"
          ],
          [
           0.2222222222222222,
           "#7201a8"
          ],
          [
           0.3333333333333333,
           "#9c179e"
          ],
          [
           0.4444444444444444,
           "#bd3786"
          ],
          [
           0.5555555555555556,
           "#d8576b"
          ],
          [
           0.6666666666666666,
           "#ed7953"
          ],
          [
           0.7777777777777778,
           "#fb9f3a"
          ],
          [
           0.8888888888888888,
           "#fdca26"
          ],
          [
           1,
           "#f0f921"
          ]
         ]
        },
        "legend": {
         "tracegroupgap": 0
        },
        "template": {
         "data": {
          "bar": [
           {
            "error_x": {
             "color": "#2a3f5f"
            },
            "error_y": {
             "color": "#2a3f5f"
            },
            "marker": {
             "line": {
              "color": "#E5ECF6",
              "width": 0.5
             },
             "pattern": {
              "fillmode": "overlay",
              "size": 10,
              "solidity": 0.2
             }
            },
            "type": "bar"
           }
          ],
          "barpolar": [
           {
            "marker": {
             "line": {
              "color": "#E5ECF6",
              "width": 0.5
             },
             "pattern": {
              "fillmode": "overlay",
              "size": 10,
              "solidity": 0.2
             }
            },
            "type": "barpolar"
           }
          ],
          "carpet": [
           {
            "aaxis": {
             "endlinecolor": "#2a3f5f",
             "gridcolor": "white",
             "linecolor": "white",
             "minorgridcolor": "white",
             "startlinecolor": "#2a3f5f"
            },
            "baxis": {
             "endlinecolor": "#2a3f5f",
             "gridcolor": "white",
             "linecolor": "white",
             "minorgridcolor": "white",
             "startlinecolor": "#2a3f5f"
            },
            "type": "carpet"
           }
          ],
          "choropleth": [
           {
            "colorbar": {
             "outlinewidth": 0,
             "ticks": ""
            },
            "type": "choropleth"
           }
          ],
          "contour": [
           {
            "colorbar": {
             "outlinewidth": 0,
             "ticks": ""
            },
            "colorscale": [
             [
              0,
              "#0d0887"
             ],
             [
              0.1111111111111111,
              "#46039f"
             ],
             [
              0.2222222222222222,
              "#7201a8"
             ],
             [
              0.3333333333333333,
              "#9c179e"
             ],
             [
              0.4444444444444444,
              "#bd3786"
             ],
             [
              0.5555555555555556,
              "#d8576b"
             ],
             [
              0.6666666666666666,
              "#ed7953"
             ],
             [
              0.7777777777777778,
              "#fb9f3a"
             ],
             [
              0.8888888888888888,
              "#fdca26"
             ],
             [
              1,
              "#f0f921"
             ]
            ],
            "type": "contour"
           }
          ],
          "contourcarpet": [
           {
            "colorbar": {
             "outlinewidth": 0,
             "ticks": ""
            },
            "type": "contourcarpet"
           }
          ],
          "heatmap": [
           {
            "colorbar": {
             "outlinewidth": 0,
             "ticks": ""
            },
            "colorscale": [
             [
              0,
              "#0d0887"
             ],
             [
              0.1111111111111111,
              "#46039f"
             ],
             [
              0.2222222222222222,
              "#7201a8"
             ],
             [
              0.3333333333333333,
              "#9c179e"
             ],
             [
              0.4444444444444444,
              "#bd3786"
             ],
             [
              0.5555555555555556,
              "#d8576b"
             ],
             [
              0.6666666666666666,
              "#ed7953"
             ],
             [
              0.7777777777777778,
              "#fb9f3a"
             ],
             [
              0.8888888888888888,
              "#fdca26"
             ],
             [
              1,
              "#f0f921"
             ]
            ],
            "type": "heatmap"
           }
          ],
          "heatmapgl": [
           {
            "colorbar": {
             "outlinewidth": 0,
             "ticks": ""
            },
            "colorscale": [
             [
              0,
              "#0d0887"
             ],
             [
              0.1111111111111111,
              "#46039f"
             ],
             [
              0.2222222222222222,
              "#7201a8"
             ],
             [
              0.3333333333333333,
              "#9c179e"
             ],
             [
              0.4444444444444444,
              "#bd3786"
             ],
             [
              0.5555555555555556,
              "#d8576b"
             ],
             [
              0.6666666666666666,
              "#ed7953"
             ],
             [
              0.7777777777777778,
              "#fb9f3a"
             ],
             [
              0.8888888888888888,
              "#fdca26"
             ],
             [
              1,
              "#f0f921"
             ]
            ],
            "type": "heatmapgl"
           }
          ],
          "histogram": [
           {
            "marker": {
             "pattern": {
              "fillmode": "overlay",
              "size": 10,
              "solidity": 0.2
             }
            },
            "type": "histogram"
           }
          ],
          "histogram2d": [
           {
            "colorbar": {
             "outlinewidth": 0,
             "ticks": ""
            },
            "colorscale": [
             [
              0,
              "#0d0887"
             ],
             [
              0.1111111111111111,
              "#46039f"
             ],
             [
              0.2222222222222222,
              "#7201a8"
             ],
             [
              0.3333333333333333,
              "#9c179e"
             ],
             [
              0.4444444444444444,
              "#bd3786"
             ],
             [
              0.5555555555555556,
              "#d8576b"
             ],
             [
              0.6666666666666666,
              "#ed7953"
             ],
             [
              0.7777777777777778,
              "#fb9f3a"
             ],
             [
              0.8888888888888888,
              "#fdca26"
             ],
             [
              1,
              "#f0f921"
             ]
            ],
            "type": "histogram2d"
           }
          ],
          "histogram2dcontour": [
           {
            "colorbar": {
             "outlinewidth": 0,
             "ticks": ""
            },
            "colorscale": [
             [
              0,
              "#0d0887"
             ],
             [
              0.1111111111111111,
              "#46039f"
             ],
             [
              0.2222222222222222,
              "#7201a8"
             ],
             [
              0.3333333333333333,
              "#9c179e"
             ],
             [
              0.4444444444444444,
              "#bd3786"
             ],
             [
              0.5555555555555556,
              "#d8576b"
             ],
             [
              0.6666666666666666,
              "#ed7953"
             ],
             [
              0.7777777777777778,
              "#fb9f3a"
             ],
             [
              0.8888888888888888,
              "#fdca26"
             ],
             [
              1,
              "#f0f921"
             ]
            ],
            "type": "histogram2dcontour"
           }
          ],
          "mesh3d": [
           {
            "colorbar": {
             "outlinewidth": 0,
             "ticks": ""
            },
            "type": "mesh3d"
           }
          ],
          "parcoords": [
           {
            "line": {
             "colorbar": {
              "outlinewidth": 0,
              "ticks": ""
             }
            },
            "type": "parcoords"
           }
          ],
          "pie": [
           {
            "automargin": true,
            "type": "pie"
           }
          ],
          "scatter": [
           {
            "fillpattern": {
             "fillmode": "overlay",
             "size": 10,
             "solidity": 0.2
            },
            "type": "scatter"
           }
          ],
          "scatter3d": [
           {
            "line": {
             "colorbar": {
              "outlinewidth": 0,
              "ticks": ""
             }
            },
            "marker": {
             "colorbar": {
              "outlinewidth": 0,
              "ticks": ""
             }
            },
            "type": "scatter3d"
           }
          ],
          "scattercarpet": [
           {
            "marker": {
             "colorbar": {
              "outlinewidth": 0,
              "ticks": ""
             }
            },
            "type": "scattercarpet"
           }
          ],
          "scattergeo": [
           {
            "marker": {
             "colorbar": {
              "outlinewidth": 0,
              "ticks": ""
             }
            },
            "type": "scattergeo"
           }
          ],
          "scattergl": [
           {
            "marker": {
             "colorbar": {
              "outlinewidth": 0,
              "ticks": ""
             }
            },
            "type": "scattergl"
           }
          ],
          "scattermapbox": [
           {
            "marker": {
             "colorbar": {
              "outlinewidth": 0,
              "ticks": ""
             }
            },
            "type": "scattermapbox"
           }
          ],
          "scatterpolar": [
           {
            "marker": {
             "colorbar": {
              "outlinewidth": 0,
              "ticks": ""
             }
            },
            "type": "scatterpolar"
           }
          ],
          "scatterpolargl": [
           {
            "marker": {
             "colorbar": {
              "outlinewidth": 0,
              "ticks": ""
             }
            },
            "type": "scatterpolargl"
           }
          ],
          "scatterternary": [
           {
            "marker": {
             "colorbar": {
              "outlinewidth": 0,
              "ticks": ""
             }
            },
            "type": "scatterternary"
           }
          ],
          "surface": [
           {
            "colorbar": {
             "outlinewidth": 0,
             "ticks": ""
            },
            "colorscale": [
             [
              0,
              "#0d0887"
             ],
             [
              0.1111111111111111,
              "#46039f"
             ],
             [
              0.2222222222222222,
              "#7201a8"
             ],
             [
              0.3333333333333333,
              "#9c179e"
             ],
             [
              0.4444444444444444,
              "#bd3786"
             ],
             [
              0.5555555555555556,
              "#d8576b"
             ],
             [
              0.6666666666666666,
              "#ed7953"
             ],
             [
              0.7777777777777778,
              "#fb9f3a"
             ],
             [
              0.8888888888888888,
              "#fdca26"
             ],
             [
              1,
              "#f0f921"
             ]
            ],
            "type": "surface"
           }
          ],
          "table": [
           {
            "cells": {
             "fill": {
              "color": "#EBF0F8"
             },
             "line": {
              "color": "white"
             }
            },
            "header": {
             "fill": {
              "color": "#C8D4E3"
             },
             "line": {
              "color": "white"
             }
            },
            "type": "table"
           }
          ]
         },
         "layout": {
          "annotationdefaults": {
           "arrowcolor": "#2a3f5f",
           "arrowhead": 0,
           "arrowwidth": 1
          },
          "autotypenumbers": "strict",
          "coloraxis": {
           "colorbar": {
            "outlinewidth": 0,
            "ticks": ""
           }
          },
          "colorscale": {
           "diverging": [
            [
             0,
             "#8e0152"
            ],
            [
             0.1,
             "#c51b7d"
            ],
            [
             0.2,
             "#de77ae"
            ],
            [
             0.3,
             "#f1b6da"
            ],
            [
             0.4,
             "#fde0ef"
            ],
            [
             0.5,
             "#f7f7f7"
            ],
            [
             0.6,
             "#e6f5d0"
            ],
            [
             0.7,
             "#b8e186"
            ],
            [
             0.8,
             "#7fbc41"
            ],
            [
             0.9,
             "#4d9221"
            ],
            [
             1,
             "#276419"
            ]
           ],
           "sequential": [
            [
             0,
             "#0d0887"
            ],
            [
             0.1111111111111111,
             "#46039f"
            ],
            [
             0.2222222222222222,
             "#7201a8"
            ],
            [
             0.3333333333333333,
             "#9c179e"
            ],
            [
             0.4444444444444444,
             "#bd3786"
            ],
            [
             0.5555555555555556,
             "#d8576b"
            ],
            [
             0.6666666666666666,
             "#ed7953"
            ],
            [
             0.7777777777777778,
             "#fb9f3a"
            ],
            [
             0.8888888888888888,
             "#fdca26"
            ],
            [
             1,
             "#f0f921"
            ]
           ],
           "sequentialminus": [
            [
             0,
             "#0d0887"
            ],
            [
             0.1111111111111111,
             "#46039f"
            ],
            [
             0.2222222222222222,
             "#7201a8"
            ],
            [
             0.3333333333333333,
             "#9c179e"
            ],
            [
             0.4444444444444444,
             "#bd3786"
            ],
            [
             0.5555555555555556,
             "#d8576b"
            ],
            [
             0.6666666666666666,
             "#ed7953"
            ],
            [
             0.7777777777777778,
             "#fb9f3a"
            ],
            [
             0.8888888888888888,
             "#fdca26"
            ],
            [
             1,
             "#f0f921"
            ]
           ]
          },
          "colorway": [
           "#636efa",
           "#EF553B",
           "#00cc96",
           "#ab63fa",
           "#FFA15A",
           "#19d3f3",
           "#FF6692",
           "#B6E880",
           "#FF97FF",
           "#FECB52"
          ],
          "font": {
           "color": "#2a3f5f"
          },
          "geo": {
           "bgcolor": "white",
           "lakecolor": "white",
           "landcolor": "#E5ECF6",
           "showlakes": true,
           "showland": true,
           "subunitcolor": "white"
          },
          "hoverlabel": {
           "align": "left"
          },
          "hovermode": "closest",
          "mapbox": {
           "style": "light"
          },
          "paper_bgcolor": "white",
          "plot_bgcolor": "#E5ECF6",
          "polar": {
           "angularaxis": {
            "gridcolor": "white",
            "linecolor": "white",
            "ticks": ""
           },
           "bgcolor": "#E5ECF6",
           "radialaxis": {
            "gridcolor": "white",
            "linecolor": "white",
            "ticks": ""
           }
          },
          "scene": {
           "xaxis": {
            "backgroundcolor": "#E5ECF6",
            "gridcolor": "white",
            "gridwidth": 2,
            "linecolor": "white",
            "showbackground": true,
            "ticks": "",
            "zerolinecolor": "white"
           },
           "yaxis": {
            "backgroundcolor": "#E5ECF6",
            "gridcolor": "white",
            "gridwidth": 2,
            "linecolor": "white",
            "showbackground": true,
            "ticks": "",
            "zerolinecolor": "white"
           },
           "zaxis": {
            "backgroundcolor": "#E5ECF6",
            "gridcolor": "white",
            "gridwidth": 2,
            "linecolor": "white",
            "showbackground": true,
            "ticks": "",
            "zerolinecolor": "white"
           }
          },
          "shapedefaults": {
           "line": {
            "color": "#2a3f5f"
           }
          },
          "ternary": {
           "aaxis": {
            "gridcolor": "white",
            "linecolor": "white",
            "ticks": ""
           },
           "baxis": {
            "gridcolor": "white",
            "linecolor": "white",
            "ticks": ""
           },
           "bgcolor": "#E5ECF6",
           "caxis": {
            "gridcolor": "white",
            "linecolor": "white",
            "ticks": ""
           }
          },
          "title": {
           "x": 0.05
          },
          "xaxis": {
           "automargin": true,
           "gridcolor": "white",
           "linecolor": "white",
           "ticks": "",
           "title": {
            "standoff": 15
           },
           "zerolinecolor": "white",
           "zerolinewidth": 2
          },
          "yaxis": {
           "automargin": true,
           "gridcolor": "white",
           "linecolor": "white",
           "ticks": "",
           "title": {
            "standoff": 15
           },
           "zerolinecolor": "white",
           "zerolinewidth": 2
          }
         }
        },
        "title": {
         "text": "Average Wine Rating by Country"
        },
        "xaxis": {
         "anchor": "y",
         "domain": [
          0,
          1
         ],
         "title": {
          "text": "Country Code"
         }
        },
        "yaxis": {
         "anchor": "x",
         "domain": [
          0,
          1
         ],
         "title": {
          "text": "Average Rating"
         }
        }
       }
      }
     },
     "metadata": {},
     "output_type": "display_data"
    }
   ],
   "source": [
    "# Visualizing the results:\n",
    "import plotly.express as px\n",
    "import pandas as pd\n",
    "\n",
    "data = {\n",
    "    'country': ['Allemagne', 'Israël', 'États-Unis', 'Moldavie', 'Hongrie', 'Afrique du Sud', \n",
    "             'Australie', 'France', 'Espagne', 'Portugal', 'Chili', 'Italie', \n",
    "             'Argentine', 'Roumanie', 'Grèce', 'Suisse', 'Croatie'],\n",
    "    'avg_rating': [4.500000000000001, 4.5, 4.4905405405405405, 4.4799999999999995, 4.472727272727273, \n",
    "                   4.459090909090909, 4.458333333333333, 4.447129909365562, 4.4436170212765935, \n",
    "                   4.435714285714287, 4.43125, 4.430026109660581, 4.417391304347826, 4.4, 4.4, 4.35, 4.3]\n",
    "}\n",
    "\n",
    "name_map = {\n",
    "    'Allemagne': 'Germany',\n",
    "    'Israël': 'Israel',\n",
    "    'États-Unis': 'United States',\n",
    "    'Moldavie': 'Moldova',\n",
    "    'Hongrie': 'Hungary',\n",
    "    'Afrique du Sud': 'South Africa',\n",
    "    'Australie': 'Australia',\n",
    "    'France': 'France',\n",
    "    'Espagne': 'Spain',\n",
    "    'Portugal': 'Portugal',\n",
    "    'Chili': 'Chile',\n",
    "    'Italie': 'Italy',\n",
    "    'Argentine': 'Argentina',\n",
    "    'Roumanie': 'Romania',\n",
    "    'Grèce': 'Greece',\n",
    "    'Suisse': 'Switzerland',\n",
    "    'Croatie': 'Croatia'\n",
    "}\n",
    "\n",
    "df = pd.DataFrame(data)\n",
    "df['country'] = df['country'].map(name_map)\n",
    "\n",
    "fig = px.bar(df, x='country', y='avg_rating', title='Average Wine Rating by Country',\n",
    "             labels={'country': 'Country Code', 'avg_rating': 'Average Rating'},\n",
    "             color='avg_rating', text='avg_rating')\n",
    "fig.show()"
   ]
  },
  {
   "cell_type": "markdown",
   "metadata": {},
   "source": [
    "### Wine recommendations for a VIP client who likes Cabernet Sauvignon:\n",
    "Assuming Cabernet Sauvignon is mentioned in wine names, selecting top 5 wines"
   ]
  },
  {
   "cell_type": "code",
   "execution_count": 26,
   "metadata": {},
   "outputs": [
    {
     "name": "stdout",
     "output_type": "stream",
     "text": [
      " * sqlite:///vivino.db\n",
      "Done.\n"
     ]
    },
    {
     "data": {
      "text/html": [
       "<table>\n",
       "    <thead>\n",
       "        <tr>\n",
       "            <th>id</th>\n",
       "            <th>name</th>\n",
       "            <th>ratings_average</th>\n",
       "            <th>ratings_count</th>\n",
       "        </tr>\n",
       "    </thead>\n",
       "    <tbody>\n",
       "        <tr>\n",
       "            <td>1611255</td>\n",
       "            <td>Cabernet Sauvignon</td>\n",
       "            <td>4.8</td>\n",
       "            <td>2941</td>\n",
       "        </tr>\n",
       "        <tr>\n",
       "            <td>66294</td>\n",
       "            <td>Special Selection Cabernet Sauvignon</td>\n",
       "            <td>4.7</td>\n",
       "            <td>41236</td>\n",
       "        </tr>\n",
       "        <tr>\n",
       "            <td>66284</td>\n",
       "            <td>Cabernet Sauvignon</td>\n",
       "            <td>4.6</td>\n",
       "            <td>157944</td>\n",
       "        </tr>\n",
       "        <tr>\n",
       "            <td>3879</td>\n",
       "            <td>Cabernet Sauvignon (Signature)</td>\n",
       "            <td>4.6</td>\n",
       "            <td>13730</td>\n",
       "        </tr>\n",
       "        <tr>\n",
       "            <td>2653222</td>\n",
       "            <td>CASK 23 Cabernet Sauvignon</td>\n",
       "            <td>4.6</td>\n",
       "            <td>9464</td>\n",
       "        </tr>\n",
       "        <tr>\n",
       "            <td>1145391</td>\n",
       "            <td>Cabernet Sauvignon</td>\n",
       "            <td>4.6</td>\n",
       "            <td>5927</td>\n",
       "        </tr>\n",
       "        <tr>\n",
       "            <td>3075039</td>\n",
       "            <td>Au Paradis Cabernet Sauvignon</td>\n",
       "            <td>4.6</td>\n",
       "            <td>3004</td>\n",
       "        </tr>\n",
       "        <tr>\n",
       "            <td>87360</td>\n",
       "            <td>Beckstoffer To Kalon Vineyard Cabernet Sauvignon</td>\n",
       "            <td>4.6</td>\n",
       "            <td>1557</td>\n",
       "        </tr>\n",
       "        <tr>\n",
       "            <td>94692</td>\n",
       "            <td>Cabernet Sauvignon Coeur De Vallée</td>\n",
       "            <td>4.6</td>\n",
       "            <td>544</td>\n",
       "        </tr>\n",
       "        <tr>\n",
       "            <td>2816852</td>\n",
       "            <td>Cabernet Sauvignon</td>\n",
       "            <td>4.6</td>\n",
       "            <td>152</td>\n",
       "        </tr>\n",
       "    </tbody>\n",
       "</table>"
      ],
      "text/plain": [
       "[(1611255, 'Cabernet Sauvignon', 4.8, 2941),\n",
       " (66294, 'Special Selection Cabernet Sauvignon', 4.7, 41236),\n",
       " (66284, 'Cabernet Sauvignon', 4.6, 157944),\n",
       " (3879, 'Cabernet Sauvignon (Signature)', 4.6, 13730),\n",
       " (2653222, 'CASK 23 Cabernet Sauvignon', 4.6, 9464),\n",
       " (1145391, 'Cabernet Sauvignon', 4.6, 5927),\n",
       " (3075039, 'Au Paradis Cabernet Sauvignon', 4.6, 3004),\n",
       " (87360, 'Beckstoffer To Kalon Vineyard Cabernet Sauvignon', 4.6, 1557),\n",
       " (94692, 'Cabernet Sauvignon Coeur De Vallée', 4.6, 544),\n",
       " (2816852, 'Cabernet Sauvignon', 4.6, 152)]"
      ]
     },
     "execution_count": 26,
     "metadata": {},
     "output_type": "execute_result"
    }
   ],
   "source": [
    "%%sql\n",
    "SELECT id, name, ratings_average, ratings_count\n",
    "FROM wines\n",
    "WHERE name LIKE '%Cabernet Sauvignon%'\n",
    "ORDER BY ratings_average DESC, ratings_count DESC\n",
    "LIMIT 10;\n"
   ]
  }
 ],
 "metadata": {
  "kernelspec": {
   "display_name": "Python 3",
   "language": "python",
   "name": "python3"
  },
  "language_info": {
   "codemirror_mode": {
    "name": "ipython",
    "version": 3
   },
   "file_extension": ".py",
   "mimetype": "text/x-python",
   "name": "python",
   "nbconvert_exporter": "python",
   "pygments_lexer": "ipython3",
   "version": "3.11.4"
  }
 },
 "nbformat": 4,
 "nbformat_minor": 2
}
