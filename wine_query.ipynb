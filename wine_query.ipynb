{
 "cells": [
  {
   "cell_type": "markdown",
   "metadata": {},
   "source": [
    "***Q1: 10 wines to increase sales***\n",
    "***ranking based on rating scores from the wines table***"
   ]
  },
  {
   "cell_type": "code",
   "execution_count": 3,
   "metadata": {},
   "outputs": [
    {
     "name": "stdout",
     "output_type": "stream",
     "text": [
      "('Cabernet Sauvignon', 4.6, 157944, 726542.3999999999)\n",
      "('Brut Champagne', 4.6, 146377, 673334.2)\n",
      "('Tignanello', 4.5, 142513, 641308.5)\n",
      "('Sassicaia', 4.6, 107646, 495171.6)\n",
      "('60 Sessantanni Old Vines Primitivo di Manduria', 4.5, 94289, 424300.5)\n",
      "('Costasera Amarone della Valpolicella Classico', 4.3, 93397, 401607.1)\n",
      "('ARTEMIS Cabernet Sauvignon', 4.4, 81351, 357944.4)\n",
      "('Opus One', 4.6, 77053, 354443.8)\n",
      "('Pauillac (Premier Grand Cru Classé)', 4.6, 73615, 338629.0)\n",
      "('Valbuena 5º', 4.6, 72784, 334806.39999999997)\n"
     ]
    }
   ],
   "source": [
    "import sqlite3\n",
    "\n",
    "# Connect to the SQLite database\n",
    "conn = sqlite3.connect('vivino.db')\n",
    "cur = conn.cursor()\n",
    "\n",
    "# Execute the SQL query\n",
    "query1 = \"\"\"\n",
    "SELECT name, ratings_average, ratings_count, \n",
    "       (ratings_average * ratings_count) AS rating_score\n",
    "FROM wines\n",
    "ORDER BY rating_score DESC\n",
    "LIMIT 10;\n",
    "\"\"\"\n",
    "cur.execute(query1)\n",
    "result = cur.fetchall()\n",
    "\n",
    "# Print or process the query result\n",
    "for row in result:\n",
    "    print(row)  # Print each row, you can modify this as needed for further processing\n",
    "\n",
    "# Close the cursor and connection\n",
    "cur.close()\n",
    "conn.close()"
   ]
  },
  {
   "cell_type": "markdown",
   "metadata": {},
   "source": [
    "***Q1: 10 wines to increase sales***\n",
    "***ranking based on rating scores from the vintages table***"
   ]
  },
  {
   "cell_type": "code",
   "execution_count": 4,
   "metadata": {},
   "outputs": [
    {
     "name": "stdout",
     "output_type": "stream",
     "text": [
      "('Laurent-Perrier Brut Cuvée Champagne Rosé', 4.4, 36681, 161396.40000000002)\n",
      "('Krug Grande Cuvée', 4.6, 28513, 131159.8)\n",
      "('Billecart-Salmon Brut Rosé Champagne', 4.4, 23241, 102260.40000000001)\n",
      "('Dom Pérignon Brut Champagne 2006', 4.6, 21121, 97156.59999999999)\n",
      "('Ruinart Brut Rosé Champagne', 4.4, 21147, 93046.8)\n",
      "('San Marzano 60 Sessantanni Old Vines Primitivo di Manduria 2017', 4.5, 17090, 76905.0)\n",
      "('Opus One Overture', 4.5, 16804, 75618.0)\n",
      "('Caymus Cabernet Sauvignon 2019', 4.6, 15647, 71976.2)\n",
      "('Dom Pérignon Brut Champagne 2004', 4.6, 14650, 67390.0)\n",
      "('Antinori Tignanello 2016', 4.6, 13709, 63061.399999999994)\n"
     ]
    }
   ],
   "source": [
    "import sqlite3\n",
    "\n",
    "# Connect to the SQLite database\n",
    "conn = sqlite3.connect('vivino.db')\n",
    "cur = conn.cursor()\n",
    "\n",
    "# Execute the SQL query\n",
    "query1 = \"\"\"\n",
    "SELECT name, ratings_average, ratings_count, \n",
    "       (ratings_average * ratings_count) AS rating_score\n",
    "FROM vintages\n",
    "ORDER BY rating_score DESC\n",
    "LIMIT 10;\n",
    "\"\"\"\n",
    "cur.execute(query1)\n",
    "result = cur.fetchall()\n",
    "\n",
    "# Print or process the query result\n",
    "for row in result:\n",
    "    print(row)  # Print each row, you can modify this as needed for further processing\n",
    "\n",
    "# Close the cursor and connection\n",
    "cur.close()\n",
    "conn.close()"
   ]
  },
  {
   "cell_type": "markdown",
   "metadata": {},
   "source": [
    "***Q2: Countries to prioritize select Top 3 based on market potential ***\n",
    "\n",
    "***Market Potential calcualated from Users Count, Wines Count, and Wineries Count on the 'countries' table***"
   ]
  },
  {
   "cell_type": "code",
   "execution_count": 5,
   "metadata": {},
   "outputs": [
    {
     "name": "stdout",
     "output_type": "stream",
     "text": [
      "Top 3 priority countries for marketing based on market potential:\n",
      "1. États-Unis - Market Potential Score: 6203689.0\n",
      "2. France - Market Potential Score: 3126912.0\n",
      "3. Italie - Market Potential Score: 2226235.6999999997\n"
     ]
    }
   ],
   "source": [
    "import sqlite3\n",
    "\n",
    "# Connect to the SQLite database\n",
    "conn = sqlite3.connect('vivino.db')\n",
    "cur = conn.cursor()\n",
    "\n",
    "# Execute SQL query to calculate market potential score for each country and rank the top 3 countries\n",
    "query2 = \"\"\"\n",
    "SELECT name, users_count, wines_count, wineries_count,\n",
    "       (0.5 * users_count + 0.3 * wines_count + 0.2 * wineries_count) AS market_potential_score\n",
    "FROM countries\n",
    "ORDER BY market_potential_score DESC\n",
    "LIMIT 3;\n",
    "\"\"\"\n",
    "\n",
    "cur.execute(query2)\n",
    "\n",
    "# Fetch and print the top 3 countries with the highest market potential scores\n",
    "results = cur.fetchall()\n",
    "if results:\n",
    "    print(\"Top 3 priority countries for marketing based on market potential:\")\n",
    "    for i, row in enumerate(results, 1):\n",
    "        country_name = row[0]\n",
    "        market_potential_score = row[4]\n",
    "        print(f\"{i}. {country_name} - Market Potential Score: {market_potential_score}\")\n",
    "else:\n",
    "    print(\"No data found\")\n",
    "\n",
    "# Close the cursor and connection\n",
    "cur.close()\n",
    "conn.close()"
   ]
  },
  {
   "cell_type": "markdown",
   "metadata": {},
   "source": [
    "***Q2: Countries to prioritize ***\n",
    "\n",
    "***ranking top 3 by users_count***"
   ]
  },
  {
   "cell_type": "code",
   "execution_count": 6,
   "metadata": {},
   "outputs": [
    {
     "name": "stdout",
     "output_type": "stream",
     "text": [
      "Top 3 priority countries for marketing based on highest users_count:\n",
      "1. États-Unis - Users Count: 12273684\n",
      "2. France - Users Count: 5973301\n",
      "3. Italie - Users Count: 4270717\n"
     ]
    }
   ],
   "source": [
    "import sqlite3\n",
    "\n",
    "# Connect to the SQLite database\n",
    "conn = sqlite3.connect('vivino.db')\n",
    "cur = conn.cursor()\n",
    "\n",
    "# Execute SQL query to rank the top 3 countries based on users_count\n",
    "query2 = \"\"\"\n",
    "SELECT name, users_count\n",
    "FROM countries\n",
    "ORDER BY users_count DESC\n",
    "LIMIT 3;\n",
    "\"\"\"\n",
    "\n",
    "cur.execute(query2)\n",
    "\n",
    "# Fetch and print the top 3 countries with the highest users_count\n",
    "results = cur.fetchall()\n",
    "if results:\n",
    "    print(\"Top 3 priority countries for marketing based on highest users_count:\")\n",
    "    for i, row in enumerate(results, 1):\n",
    "        country_name = row[0]\n",
    "        users_count = row[1]\n",
    "        print(f\"{i}. {country_name} - Users Count: {users_count}\")\n",
    "else:\n",
    "    print(\"No data found\")\n",
    "\n",
    "# Close the cursor and connection\n",
    "cur.close()\n",
    "conn.close()"
   ]
  },
  {
   "cell_type": "markdown",
   "metadata": {},
   "source": [
    "***Q2: Countries to prioritize ***\n",
    "\n",
    "***ranking tp 3 with by wines_count***"
   ]
  },
  {
   "cell_type": "code",
   "execution_count": 7,
   "metadata": {},
   "outputs": [
    {
     "name": "stdout",
     "output_type": "stream",
     "text": [
      "Top 3 priority countries for marketing based on highest wines_count:\n",
      "1. France - Wines Count: 422503\n",
      "2. Italie - Wines Count: 274658\n",
      "3. États-Unis - Wines Count: 204060\n"
     ]
    }
   ],
   "source": [
    "import sqlite3\n",
    "\n",
    "# Connect to the SQLite database\n",
    "conn = sqlite3.connect('vivino.db')\n",
    "cur = conn.cursor()\n",
    "\n",
    "# Execute SQL query to rank the top 3 countries based on wines_count\n",
    "query2 = \"\"\"\n",
    "SELECT name, wines_count\n",
    "FROM countries\n",
    "ORDER BY wines_count DESC\n",
    "LIMIT 3;\n",
    "\"\"\"\n",
    "\n",
    "cur.execute(query2)\n",
    "\n",
    "# Fetch and print the top 3 countries with the highest wines_count\n",
    "results = cur.fetchall()\n",
    "if results:\n",
    "    print(\"Top 3 priority countries for marketing based on highest wines_count:\")\n",
    "    for i, row in enumerate(results, 1):\n",
    "        country_name = row[0]\n",
    "        wines_count = row[1]  # Assign the value to wines_count variable\n",
    "        print(f\"{i}. {country_name} - Wines Count: {wines_count}\")\n",
    "else:\n",
    "    print(\"No data found\")\n",
    "\n",
    "# Close the cursor and connection\n",
    "cur.close()\n",
    "conn.close()"
   ]
  },
  {
   "cell_type": "markdown",
   "metadata": {},
   "source": [
    "***Q2: Countries to prioritize ***\n",
    "\n",
    "***ranking top 3 by wineries_count***"
   ]
  },
  {
   "cell_type": "code",
   "execution_count": 8,
   "metadata": {},
   "outputs": [
    {
     "name": "stdout",
     "output_type": "stream",
     "text": [
      "Top 3 priority countries for marketing based on highest wineries_count:\n",
      "1. France - Wineries Count: 67553\n",
      "2. Italie - Wineries Count: 42399\n",
      "3. États-Unis - Wineries Count: 28145\n"
     ]
    }
   ],
   "source": [
    "import sqlite3\n",
    "\n",
    "# Connect to the SQLite database\n",
    "conn = sqlite3.connect('vivino.db')\n",
    "cur = conn.cursor()\n",
    "\n",
    "# Execute SQL query to rank the top 3 countries based on wineries_count\n",
    "query2 = \"\"\"\n",
    "SELECT name, wineries_count\n",
    "FROM countries\n",
    "ORDER BY wineries_count DESC\n",
    "LIMIT 3;\n",
    "\"\"\"\n",
    "\n",
    "cur.execute(query2)\n",
    "\n",
    "# Fetch and print the top 3 countries with the highest wineries_count\n",
    "results = cur.fetchall()\n",
    "if results:\n",
    "    print(\"Top 3 priority countries for marketing based on highest wineries_count:\")\n",
    "    for i, row in enumerate(results, 1):\n",
    "        country_name = row[0]\n",
    "        wineries_count = row[1]  # Fixed variable name\n",
    "        print(f\"{i}. {country_name} - Wineries Count: {wineries_count}\")  # Fixed variable name\n",
    "else:\n",
    "    print(\"No data found\")\n",
    "\n",
    "# Close the cursor and connection\n",
    "cur.close()\n",
    "conn.close()"
   ]
  },
  {
   "cell_type": "markdown",
   "metadata": {},
   "source": [
    "***Q3: Selecting top 3 wineries for an award***\n",
    "\n",
    "***Join wineries and wine tables and select based on average wine ratings***"
   ]
  },
  {
   "cell_type": "code",
   "execution_count": 9,
   "metadata": {},
   "outputs": [
    {
     "name": "stdout",
     "output_type": "stream",
     "text": [
      "(\"Tenuta Tignanello 'Solaia'\", 4.5)\n",
      "('Corte di Cama Sforzato di Valtellina', 4.5)\n",
      "('Tignanello', 4.4)\n"
     ]
    }
   ],
   "source": [
    "import sqlite3\n",
    "\n",
    "# Connect to the SQLite database\n",
    "conn = sqlite3.connect('vivino.db')\n",
    "cur = conn.cursor()\n",
    "\n",
    "# Execute the SQL query to find the top 3 wineries based on average ratings\n",
    "query3 = \"\"\"\n",
    "SELECT wr.name AS winery_name, AVG(w.ratings_average) AS avg_rating\n",
    "FROM wineries wr\n",
    "JOIN wines w ON wr.id = w.winery_id\n",
    "GROUP BY wr.name\n",
    "ORDER BY avg_rating DESC\n",
    "LIMIT 3;\n",
    "\"\"\"\n",
    "\n",
    "# Execute the query and fetch the results\n",
    "cur.execute(query3)\n",
    "results = cur.fetchall()\n",
    "\n",
    "# Print the results\n",
    "for row in results:\n",
    "    print(row)\n",
    "\n",
    "# Close the cursor and connection\n",
    "cur.close()\n",
    "conn.close()"
   ]
  },
  {
   "cell_type": "markdown",
   "metadata": {},
   "source": [
    "***Q4:Find wines related to the specified keywords: coffee, toast, green apple, cream, and citrus***"
   ]
  },
  {
   "cell_type": "code",
   "execution_count": null,
   "metadata": {},
   "outputs": [],
   "source": [
    "import sqlite3\n",
    "\n",
    "# Connect to the SQLite database\n",
    "conn = sqlite3.connect('vivino.db')\n",
    "cur = conn.cursor()\n",
    "\n",
    "# Define the SQL query to find wines related to specific keywords\n",
    "query4 = \"\"\"\n",
    "SELECT w.*\n",
    "FROM wines w\n",
    "JOIN keywords_wine kw ON w.id = kw.wine_id\n",
    "JOIN keywords k ON kw.keyword_id = k.id\n",
    "WHERE k.name IN ('coffee', 'toast', 'green apple', 'cream', 'citrus');\n",
    "\"\"\"\n",
    "\n",
    "# Execute the query and fetch the results\n",
    "cur.execute(query4)\n",
    "results = cur.fetchall()\n",
    "\n",
    "# Print the wines related to the specified keywords\n",
    "for row in results:\n",
    "    print(row)\n",
    "\n",
    "# Close the cursor and connection\n",
    "cur.close()\n",
    "conn.close()"
   ]
  },
  {
   "cell_type": "markdown",
   "metadata": {},
   "source": [
    "***Q5a: Select top 3 common grapes all over the world***\n"
   ]
  },
  {
   "cell_type": "code",
   "execution_count": 11,
   "metadata": {},
   "outputs": [
    {
     "name": "stdout",
     "output_type": "stream",
     "text": [
      "Top 3 Most Common Grapes All Over the World Based on Wines Count:\n",
      "1. Grape ID: 2, Name: Cabernet Sauvignon, Total Occurrences (Wines Count): 12\n",
      "2. Grape ID: 10, Name: Merlot, Total Occurrences (Wines Count): 11\n",
      "3. Grape ID: 5, Name: Chardonnay, Total Occurrences (Wines Count): 6\n"
     ]
    }
   ],
   "source": [
    "import sqlite3\n",
    "\n",
    "# Connect to the SQLite database\n",
    "conn = sqlite3.connect('vivino.db')\n",
    "cur = conn.cursor()\n",
    "\n",
    "# Query to find the top 3 most common grapes based on wines_count in most_used_grapes_per_country table\n",
    "query5a = \"\"\"\n",
    "SELECT g.id, g.name, COUNT(m.wines_count) AS total_occurrences\n",
    "FROM grapes g\n",
    "JOIN most_used_grapes_per_country m ON g.id = m.grape_id\n",
    "GROUP BY g.id, g.name\n",
    "ORDER BY total_occurrences DESC\n",
    "LIMIT 3;\n",
    "\"\"\"\n",
    "\n",
    "cur.execute(query5a)\n",
    "top_grapes = cur.fetchall()\n",
    "\n",
    "# Display the top 3 most common grapes based on wines_count in most_used_grapes_per_country table\n",
    "if top_grapes:\n",
    "    print(\"Top 3 Most Common Grapes All Over the World Based on Wines Count:\")\n",
    "    for i, grape in enumerate(top_grapes, 1):\n",
    "        grape_id = grape[0]\n",
    "        grape_name = grape[1]\n",
    "        total_occurrences = grape[2]\n",
    "        print(f\"{i}. Grape ID: {grape_id}, Name: {grape_name}, Total Occurrences (Wines Count): {total_occurrences}\")\n",
    "else:\n",
    "    print(\"No data found.\")\n",
    "\n",
    "# Close the cursor and connection\n",
    "cur.close()\n",
    "conn.close()"
   ]
  },
  {
   "cell_type": "markdown",
   "metadata": {},
   "source": [
    "***Q5b: for each grape generated in query 5a  find 5 of the best related wines***"
   ]
  },
  {
   "cell_type": "code",
   "execution_count": 12,
   "metadata": {},
   "outputs": [
    {
     "name": "stdout",
     "output_type": "stream",
     "text": [
      "Top 5 Best Rated Wines for Grape ID 2:\n",
      "1. Wine ID: 2096398, Name: Bestsellers in Massachusetts\n",
      "2. Wine ID: 2550416, Name: Bestsellers in Tennessee\n",
      "3. Wine ID: 2711045, Name: Bestsellers in Arizona\n",
      "4. Wine ID: 3008568, Name: Bestsellers in Nevada\n",
      "5. Wine ID: 4710320, Name: Bestsellers in New Mexico\n",
      "Top 5 Best Rated Wines for Grape ID 5:\n",
      "1. Wine ID: 2096398, Name: Bestsellers in Massachusetts\n",
      "2. Wine ID: 2508363, Name: Bestsellers in Italy\n",
      "3. Wine ID: 2550416, Name: Bestsellers in Tennessee\n",
      "4. Wine ID: 2711045, Name: Bestsellers in Arizona\n",
      "5. Wine ID: 3008568, Name: Bestsellers in Nevada\n",
      "Top 5 Best Rated Wines for Grape ID 10:\n",
      "1. Wine ID: 2508363, Name: Bestsellers in Italy\n",
      "2. Wine ID: 4203674, Name: Bestsellers in Switzerland\n"
     ]
    }
   ],
   "source": [
    "import sqlite3\n",
    "\n",
    "# Connect to the SQLite database\n",
    "conn = sqlite3.connect('vivino.db')\n",
    "cur = conn.cursor()\n",
    "\n",
    "# Define a list of grape IDs for which you want to retrieve the best-rated wines\n",
    "grape_ids = [2, 5, 10]\n",
    "\n",
    "# Query to retrieve the 5 best-rated wines from toplists for each grape ID based on id\n",
    "for grape_id in grape_ids:\n",
    "    query5b = f\"\"\"\n",
    "    SELECT t.id, t.name\n",
    "    FROM toplists t\n",
    "    JOIN most_used_grapes_per_country m ON t.country_code = m.country_code\n",
    "    WHERE m.grape_id = {grape_id}\n",
    "    ORDER BY t.id\n",
    "    LIMIT 5;\n",
    "    \"\"\"\n",
    "\n",
    "    cur.execute(query5b)\n",
    "    best_rated_wines = cur.fetchall()\n",
    "\n",
    "    # Display the best-rated wines for the current grape ID\n",
    "    if best_rated_wines:\n",
    "        print(f\"Top 5 Best Rated Wines for Grape ID {grape_id}:\")\n",
    "        for i, wine in enumerate(best_rated_wines, 1):\n",
    "            wine_id = wine[0]\n",
    "            wine_name = wine[1]\n",
    "            print(f\"{i}. Wine ID: {wine_id}, Name: {wine_name}\")\n",
    "    else:\n",
    "        print(f\"No data found for Grape ID {grape_id}.\")\n",
    "\n",
    "# Close the cursor and connection\n",
    "cur.close()\n",
    "conn.close()"
   ]
  },
  {
   "cell_type": "markdown",
   "metadata": {},
   "source": [
    "*** Q6a: create country leaderboard and a graph to show the average wine rating for each country***"
   ]
  },
  {
   "cell_type": "code",
   "execution_count": 13,
   "metadata": {},
   "outputs": [
    {
     "data": {
      "image/png": "[encoded data removed]",
      "text/plain": [
       "<Figure size 1200x600 with 1 Axes>"
      ]
     },
     "metadata": {},
     "output_type": "display_data"
    }
   ],
   "source": [
    "#conda install -n myenv matplotlib\n",
    "import sqlite3\n",
    "import matplotlib.pyplot as plt\n",
    "\n",
    "# Connect to the SQLite database\n",
    "conn = sqlite3.connect('vivino.db')\n",
    "cur = conn.cursor()\n",
    "\n",
    "# Query to calculate the average wine rating for each country\n",
    "query6a = \"\"\"\n",
    "SELECT c.name, AVG(w.ratings_average) AS avg_rating\n",
    "FROM wines w\n",
    "JOIN regions r ON w.region_id = r.id\n",
    "JOIN countries c ON r.country_code = c.code\n",
    "GROUP BY c.name;\n",
    "\"\"\"\n",
    "\n",
    "# Execute the query\n",
    "cur.execute(query6a)\n",
    "avg_ratings = cur.fetchall()\n",
    "\n",
    "# Close the cursor and connection\n",
    "cur.close()\n",
    "conn.close()\n",
    "\n",
    "# Visualize the average wine ratings for each country\n",
    "countries = [rating[0] for rating in avg_ratings]\n",
    "avg_ratings = [rating[1] for rating in avg_ratings]\n",
    "\n",
    "plt.figure(figsize=(12, 6))\n",
    "plt.bar(countries, avg_ratings, color='skyblue')\n",
    "plt.xlabel('Countries')\n",
    "plt.ylabel('Average Wine Rating')\n",
    "plt.title('Average Wine Rating by Country')\n",
    "plt.xticks(rotation=45)\n",
    "plt.tight_layout()\n",
    "plt.show()"
   ]
  },
  {
   "cell_type": "markdown",
   "metadata": {},
   "source": [
    "*** Q6b: create country leaderboard and a graph to show the average vintages rating for each country***"
   ]
  },
  {
   "cell_type": "code",
   "execution_count": 14,
   "metadata": {},
   "outputs": [
    {
     "data": {
      "image/png": "[encoded data removed]",
      "text/plain": [
       "<Figure size 1200x600 with 1 Axes>"
      ]
     },
     "metadata": {},
     "output_type": "display_data"
    }
   ],
   "source": [
    "#conda install -n myenv matplotlib\n",
    "import sqlite3\n",
    "import matplotlib.pyplot as plt\n",
    "\n",
    "# Connect to the SQLite database\n",
    "conn = sqlite3.connect('vivino.db')\n",
    "cur = conn.cursor()\n",
    "\n",
    "# SQL Query to retrieve the ratings_average for vintages for each country\n",
    "query6b = \"\"\"\n",
    "SELECT c.name AS country, AVG(v.ratings_average) AS avg_ratings_average\n",
    "FROM wines w\n",
    "JOIN regions r ON w.region_id = r.id\n",
    "JOIN countries c ON r.country_code = c.code\n",
    "JOIN vintages v ON w.id = v.wine_id\n",
    "GROUP BY c.name;\n",
    "\"\"\"\n",
    "\n",
    "# Execute the SQL query and fetch the results\n",
    "cur.execute(query6b)\n",
    "avg_ratings_vintages = cur.fetchall()\n",
    "\n",
    "# Extracting the country names and average ratings_average values for visualization\n",
    "countries = [row[0] for row in avg_ratings_vintages]\n",
    "avg_ratings = [row[1] for row in avg_ratings_vintages]\n",
    "\n",
    "# Create a visualization (e.g., bar chart) using Matplotlib or another plotting library to show the ratings_average for vintages for each country\n",
    "import matplotlib.pyplot as plt\n",
    "\n",
    "plt.figure(figsize=(12, 6))\n",
    "plt.bar(countries, avg_ratings, color='skyblue')\n",
    "plt.xlabel('Country')\n",
    "plt.ylabel('Average Ratings Average for Vintages')\n",
    "plt.title('Average Ratings Average for Vintages by Country')\n",
    "plt.xticks(rotation=45)\n",
    "plt.tight_layout()\n",
    "\n",
    "plt.show()"
   ]
  },
  {
   "cell_type": "markdown",
   "metadata": {},
   "source": [
    "***Q7: Cabernet Sauvignon top 5 wine recommendations***"
   ]
  },
  {
   "cell_type": "code",
   "execution_count": 15,
   "metadata": {},
   "outputs": [
    {
     "name": "stdout",
     "output_type": "stream",
     "text": [
      "1. Wine ID: 159338927, Year: 2019, Name: Caymus Cabernet Sauvignon 2019, Ratings Average: 4.6, Ratings Count: 15647, Ratings Score: 71976.2\n",
      "2. Wine ID: 156270917, Year: 2018, Name: Buena Vista Chateau Buena Vista Cabernet Sauvignon Napa Valley 2018, Ratings Average: 4.4, Ratings Count: 3867, Ratings Score: 17014.800000000003\n",
      "3. Wine ID: 150309062, Year: 2017, Name: Silver Oak Alexander Valley Cabernet Sauvignon 2017, Ratings Average: 4.5, Ratings Count: 3609, Ratings Score: 16240.5\n",
      "4. Wine ID: 156188237, Year: 2018, Name: Joseph Phelps Vineyards Cabernet Sauvignon 2018, Ratings Average: 4.4, Ratings Count: 2594, Ratings Score: 11413.6\n",
      "5. Wine ID: 150342955, Year: 2017, Name: Caymus Special Selection Cabernet Sauvignon 2017, Ratings Average: 4.7, Ratings Count: 1890, Ratings Score: 8883.0\n"
     ]
    }
   ],
   "source": [
    "import sqlite3\n",
    "import matplotlib.pyplot as plt\n",
    "\n",
    "# Connect to the SQLite database\n",
    "conn = sqlite3.connect('vivino.db')\n",
    "cur = conn.cursor()\n",
    "\n",
    "# SQL Query to recommend the top 5 Cabernet Sauvignon wines based on ratings_score and oldest year\n",
    "query_top_cabernet_recommendations = \"\"\"\n",
    "SELECT v.id, v.year, v.name AS wine_name, v.ratings_average, v.ratings_count,\n",
    "       v.ratings_average * v.ratings_count AS ratings_score\n",
    "FROM vintages v\n",
    "JOIN wines w ON v.wine_id = w.id\n",
    "WHERE w.name LIKE '%Cabernet Sauvignon%'\n",
    "ORDER BY ratings_score DESC, v.year\n",
    "LIMIT 5;\n",
    "\"\"\"\n",
    "\n",
    "# Execute the SQL query and fetch the results\n",
    "cur.execute(query_top_cabernet_recommendations)\n",
    "top_cabernet_recommendations = cur.fetchall()\n",
    "\n",
    "# Display the top 5 Cabernet Sauvignon wine recommendations for the VIP client\n",
    "for index, row in enumerate(top_cabernet_recommendations, start=1):\n",
    "    wine_id, year, wine_name, ratings_average, ratings_count, ratings_score = row\n",
    "    print(f\"{index}. Wine ID: {wine_id}, Year: {year}, Name: {wine_name}, Ratings Average: {ratings_average}, Ratings Count: {ratings_count}, Ratings Score: {ratings_score}\")"
   ]
  }
 ],
 "metadata": {
  "kernelspec": {
   "display_name": "Python 3",
   "language": "python",
   "name": "python3"
  },
  "language_info": {
   "codemirror_mode": {
    "name": "ipython",
    "version": 3
   },
   "file_extension": ".py",
   "mimetype": "text/x-python",
   "name": "python",
   "nbconvert_exporter": "python",
   "pygments_lexer": "ipython3",
   "version": "3.11.8"
  }
 },
 "nbformat": 4,
 "nbformat_minor": 2
}
